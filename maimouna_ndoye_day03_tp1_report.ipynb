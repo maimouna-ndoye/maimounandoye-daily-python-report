{
 "cells": [
  {
   "cell_type": "markdown",
   "id": "426486dd",
   "metadata": {
    "id": "426486dd"
   },
   "source": [
    "\n",
    "\n",
    "# Practical_1: Variables and Assignments"
   ]
  },
  {
   "cell_type": "markdown",
   "id": "0d5ea9f9",
   "metadata": {
    "id": "9fb19f0d"
   },
   "source": [
    "----\n",
    "\n",
    "### Exercise 1:\n",
    "Declare a variable `x` and assign it the value `10`.\n",
    "\n",
    "```python\n",
    "# Exercise 1\n",
    "```"
   ]
  },
  {
   "cell_type": "markdown",
   "id": "289a2c3b",
   "metadata": {
    "id": "9fb19f0d"
   },
   "source": [
    "---\n",
    "\n",
    "### Exercise 2:\n",
    "Assign the value `True` to a variable called `is_valid`.\n",
    "\n",
    "```python\n",
    "# Exercise 2\n",
    "```\n",
    "\n",
    "---\n",
    "\n",
    "### Exercise 3:\n",
    "Create a string variable `name` with the value \"Python Programming\".\n",
    "\n",
    "```python\n",
    "# Exercise 3\n",
    "```\n",
    "\n",
    "---\n",
    "\n",
    "### Exercise 4:\n",
    "Assign the result of `5 + 3` to a variable `sum_result`.\n",
    "\n",
    "```python\n",
    "# Exercise 4\n",
    "```\n",
    "\n",
    "---\n",
    "\n",
    "### Exercise 5:\n",
    "Assign multiple variables in one line: `a = 5`, `b = 10`, `c = 15`.\n",
    "\n",
    "```python\n",
    "# Exercise 5\n",
    "```\n",
    "\n",
    "---\n",
    "\n",
    "### Exercise 6:\n",
    "Assign the value of one variable `x` to another variable `y`.\n",
    "\n",
    "```python\n",
    "# Exercise 6\n",
    "```\n",
    "\n",
    "---\n",
    "\n",
    "### Exercise 7:\n",
    "Assign a floating-point number `9.8` to a variable `gravity`.\n",
    "\n",
    "```python\n",
    "# Exercise 7\n",
    "```\n",
    "\n",
    "---\n",
    "\n",
    "### Exercise 8:\n",
    "Create a variable `country` and assign it the string value of your favorite country.\n",
    "\n",
    "```python\n",
    "# Exercise 8\n",
    "```\n",
    "\n",
    "---\n",
    "\n",
    "### Exercise 9:\n",
    "Change the value of variable `age` from `25` to `26` in two separate steps.\n",
    "\n",
    "```python\n",
    "# Exercise 9"
   ]
  },
  {
   "cell_type": "markdown",
   "id": "5cf78f6e",
   "metadata": {
    "id": "9fb19f0d"
   },
   "source": [
    "```\n",
    "\n",
    "---\n",
    "\n",
    "### Exercise 10:\n",
    "Use one variable to store the result of subtracting two numbers `20 - 7`.\n",
    "\n",
    "```python\n",
    "# Exercise 10\n",
    "```\n",
    "\n",
    "---\n",
    "\n",
    "### Exercise 11:\n",
    "Assign an integer value and a floating-point value to two different variables.\n",
    "\n",
    "```python\n",
    "# Exercise 11\n",
    "```\n",
    "\n",
    "---\n",
    "\n",
    "### Exercise 12:\n",
    "Assign a boolean value `False` to a variable `is_completed`.\n",
    "\n",
    "```python\n",
    "# Exercise 12\n",
    "```\n",
    "\n",
    "---\n",
    "\n",
    "### Exercise 13:\n",
    "Swap the values of two variables `x` and `y`.\n",
    "\n",
    "```python\n",
    "# Exercise 13\n",
    "```\n",
    "\n",
    "---\n",
    "\n",
    "### Exercise 14:\n",
    "Assign a complex number `3 + 4j` to a variable `complex_num`.\n",
    "\n",
    "```python\n",
    "# Exercise 14\n",
    "```"
   ]
  },
  {
   "cell_type": "markdown",
   "id": "67025897",
   "metadata": {
    "id": "9fb19f0d"
   },
   "source": [
    "---\n",
    "\n",
    "### Exercise 15:\n",
    "Reassign a variable from an integer to a string.\n",
    "\n",
    "```python\n",
    "# Exercise 15\n",
    "```\n",
    "\n",
    "---\n",
    "\n",
    "### Exercise 16:\n",
    "Create two variables `first_name` and `last_name`, and assign them your first and last names.\n",
    "\n",
    "```python\n",
    "# Exercise 16\n",
    "```\n",
    "\n",
    "---"
   ]
  },
  {
   "cell_type": "markdown",
   "id": "779c71bf",
   "metadata": {
    "id": "9fb19f0d"
   },
   "source": [
    "### Exercise 17:\n",
    "Create a variable `temperature` and assign it the value of `35.5`.\n",
    "\n",
    "```python\n",
    "# Exercise 17\n",
    "```\n",
    "\n",
    "---\n",
    "\n",
    "### Exercise 18:\n",
    "Assign the result of the multiplication of two numbers `8 * 6` to a variable `product`.\n",
    "\n",
    "```python\n",
    "# Exercise 18\n",
    "```\n",
    "\n",
    "---\n",
    "\n",
    "### Exercise 19:\n",
    "Assign a sentence of your choice to a variable `sentence`.\n",
    "\n",
    "```python\n",
    "# Exercise 19\n",
    "```\n",
    "\n",
    "---\n",
    "\n",
    "### Exercise 20:\n",
    "Use an assignment to convert a string `'50'` into an integer variable `int_value`.\n",
    "\n",
    "```python\n",
    "# Exercise 20\n",
    "```\n",
    "\n",
    "---\n",
    "\n",
    "### Exercise 21:\n",
    "Assign the result of dividing `144` by `12` to a variable `quotient`.\n",
    "\n",
    "```python\n",
    "# Exercise 21\n",
    "```\n",
    "\n",
    "---\n",
    "\n",
    "### Exercise 22:\n",
    "Assign the remainder of `47 divided by 5` to a variable `remainder`.\n",
    "\n",
    "```python\n",
    "# Exercise 22\n",
    "```\n",
    "\n",
    "---\n",
    "\n",
    "### Exercise 23:\n",
    "Create a variable `is_student` and assign it the value `True`.\n",
    "\n",
    "```python\n",
    "# Exercise 23\n",
    "```\n",
    "\n",
    "---\n",
    "\n",
    "### Exercise 24:\n",
    "Use a variable to store the result of a modulo operation: `45 % 4`.\n",
    "\n",
    "```python\n",
    "# Exercise 24\n",
    "```\n",
    "\n",
    "---\n",
    "\n",
    "### Exercise 25:\n",
    "Create a variable `pi` and assign it the value `3.14159`.\n",
    "\n",
    "```python\n",
    "# Exercise 25\n",
    "```\n",
    "\n",
    "---\n",
    "\n",
    "### Exercise 26:\n",
    "Create two variables `length` and `width`, assign them values, and calculate the area of a rectangle.\n",
    "\n",
    "```python\n",
    "# Exercise 26\n",
    "```\n",
    "\n",
    "---\n",
    "\n",
    "### Exercise 27:\n",
    "Assign a negative number to a variable `negative_value`.\n",
    "\n",
    "```python\n",
    "# Exercise 27\n",
    "```\n",
    "\n",
    "---\n",
    "\n",
    "### Exercise 28:\n",
    "Assign a string containing a special character (e.g., \"Hello, World!\") to a variable `greeting`.\n",
    "\n",
    "```python\n",
    "# Exercise 28\n",
    "```\n",
    "\n",
    "---\n",
    "\n",
    "### Exercise 29:\n",
    "Create a variable `population` and assign it a large integer value (in billions).\n",
    "\n",
    "```python\n",
    "# Exercise 29\n",
    "```\n",
    "\n",
    "---\n",
    "\n",
    "### Exercise 30:\n",
    "### Exercise 29:\n",
    "Create a variable `population` and assign it a large integer value (in billions).\n",
    "Use a variable to store the result of raising `2` to the power of `8`.\n",
    "\n",
    "```python\n",
    "# Exercise 30\n",
    "```\n",
    "\n",
    "---\n",
    "\n",
    "### Exercise 31:\n",
    "Assign a list of your favorite fruits to a variable `fruits`.\n",
    "\n",
    "```python\n",
    "# Exercise 31\n",
    "```\n",
    "\n",
    "---\n",
    "\n",
    "### Exercise 32:\n",
    "Assign a tuple of three numbers to a variable `coordinates`.\n",
    "\n",
    "```python\n",
    "# Exercise 32\n",
    "```\n",
    "\n",
    "---\n",
    "\n",
    "### Exercise 33:\n",
    "Assign a dictionary with keys `name` and `age` to a variable `person`.\n",
    "\n",
    "```python\n",
    "# Exercise 33\n",
    "```\n",
    "\n",
    "---\n",
    "\n",
    "### Exercise 34:\n",
    "Use variables to store the sum of two floating-point numbers.\n",
    "\n",
    "```python\n",
    "# Exercise 34\n",
    "```\n",
    "\n",
    "---\n",
    "\n",
    "### Exercise 35:\n",
    "Create a variable `is_sunny` and assign it the result of a comparison `10 > 5`.\n",
    "\n",
    "```python\n",
    "# Exercise 35\n",
    "```\n",
    "\n",
    "---\n",
    "\n",
    "### Exercise 36:\n",
    "Assign a string and an integer to two different variables, then print both on one line.\n",
    "\n",
    "```python\n",
    "# Exercise 36\n",
    "```\n",
    "\n",
    "---\n",
    "\n",
    "### Exercise 37:\n",
    "Reassign a variable that originally held a number to a boolean value.\n",
    "\n",
    "```python\n",
    "# Exercise 37\n",
    "```\n",
    "\n",
    "---\n",
    "\n",
    "### Exercise 38:\n",
    "Create a variable `is_weekend` and assign it the result of `False`.\n",
    "\n",
    "```python\n",
    "# Exercise 38\n",
    "```\n",
    "\n",
    "---\n",
    "\n",
    "### Exercise 39:\n",
    "Assign a multi-line string to a variable `description`.\n",
    "\n",
    "```python\n",
    "# Exercise 39\n",
    "```\n",
    "\n",
    "---\n",
    "\n",
    "### Exercise 39:\n",
    "Assign a multi-line string to a variable `description`.\n",
    "\n",
    "```python\n",
    "# Exercise 40\n",
    "```"
   ]
  },
  {
   "cell_type": "markdown",
   "id": "317a83b3",
   "metadata": {
    "id": "9fb19f0d"
   },
   "source": [
    "---\n",
    "\n",
    "### Exercise 41:\n",
    "Assign the result of a floor division `100 // 6` to a variable `floor_div_result`.\n",
    "\n",
    "```python\n",
    "# Exercise 41\n",
    "```"
   ]
  },
  {
   "cell_type": "markdown",
   "id": "8b639b81",
   "metadata": {
    "id": "9fb19f0d"
   },
   "source": [
    "---\n",
    "\n",
    "### Exercise 42:\n",
    "Assign the result of adding a floating-point number to an integer to a variable `mixed_sum`.\n",
    "\n",
    "```python\n",
    "# Exercise 42\n",
    "```\n",
    "\n",
    "---"
   ]
  },
  {
   "cell_type": "markdown",
   "id": "63d2d228",
   "metadata": {
    "id": "9fb19f0d"
   },
   "source": []
  },
  {
   "cell_type": "markdown",
   "id": "9fb19f0d",
   "metadata": {
    "id": "9fb19f0d"
   },
   "source": [
    "### Exercise 43:\n",
    "Assign a boolean value based on the comparison of two variables `a = 10` and `b = 15`.\n",
    "\n",
    "```python\n",
    "# Exercise 43\n",
    "```\n",
    "\n",
    "---\n",
    "\n",
    "### Exercise 44:\n",
    "Assign a long sentence to a variable and count its characters using `len()`.\n",
    "\n",
    "```python\n",
    "# Exercise 44\n",
    "```\n",
    "\n",
    "---\n",
    "\n",
    "### Exercise 45:\n",
    "Assign a fractional result `7 / 3` to a variable `division_result`.\n",
    "\n",
    "```python\n",
    "# Exercise 45\n",
    "```\n",
    "\n",
    "---\n",
    "\n",
    "### Exercise 46:\n",
    "Create a variable `speed` and assign it the value of 100 kilometers per hour.\n",
    "\n",
    "```python\n",
    "# Exercise 46\n",
    "```\n",
    "\n",
    "---\n",
    "\n",
    "### Exercise 47:\n",
    "Assign a multi-variable equation like `y = 3x + 5` where `x = 4` to a variable `y`.\n",
    "\n",
    "```python\n",
    "# Exercise 47\n",
    "```\n",
    "\n",
    "---\n",
    "\n",
    "### Exercise 48:\n",
    "Use variables to calculate and store the average of three numbers.\n",
    "\n",
    "```python\n",
    "# Exercise 48\n",
    "```\n",
    "\n",
    "****"
   ]
  },
  {
   "cell_type": "markdown",
   "id": "3708a0fe",
   "metadata": {},
   "source": [
    "## Exercise 1:\n",
    "Declare a variable x and assign it the value 10.\n"
   ]
  },
  {
   "cell_type": "code",
   "execution_count": 1,
   "id": "375c9bdc",
   "metadata": {},
   "outputs": [
    {
     "data": {
      "text/plain": [
       "10"
      ]
     },
     "execution_count": 1,
     "metadata": {},
     "output_type": "execute_result"
    }
   ],
   "source": [
    "x=10\n",
    "x"
   ]
  },
  {
   "cell_type": "markdown",
   "id": "fdabff2b",
   "metadata": {},
   "source": [
    "## Exercise 2:\n",
    "Assign the value True to a variable called is_valid.\n",
    "\n"
   ]
  },
  {
   "cell_type": "code",
   "execution_count": 3,
   "id": "a2cdf3f4",
   "metadata": {},
   "outputs": [],
   "source": [
    "is_valid= True"
   ]
  },
  {
   "cell_type": "markdown",
   "id": "7f6b68f3",
   "metadata": {},
   "source": [
    "## Exercise 3:\n",
    "Create a string variable `name` with the value \"Python Programming\"."
   ]
  },
  {
   "cell_type": "code",
   "execution_count": 6,
   "id": "2fc8901b",
   "metadata": {},
   "outputs": [
    {
     "name": "stdout",
     "output_type": "stream",
     "text": [
      "Python Programming\n"
     ]
    },
    {
     "data": {
      "text/plain": [
       "str"
      ]
     },
     "execution_count": 6,
     "metadata": {},
     "output_type": "execute_result"
    }
   ],
   "source": [
    "name='Python Programming'\n",
    "print(name)\n",
    "type(name)"
   ]
  },
  {
   "cell_type": "markdown",
   "id": "fe9eb4a9",
   "metadata": {},
   "source": [
    "### Exercise 4:\n",
    "Assign the result of `5 + 3` to a variable `sum_result`.\n"
   ]
  },
  {
   "cell_type": "code",
   "execution_count": 7,
   "id": "bab21370",
   "metadata": {},
   "outputs": [
    {
     "data": {
      "text/plain": [
       "8"
      ]
     },
     "execution_count": 7,
     "metadata": {},
     "output_type": "execute_result"
    }
   ],
   "source": [
    "sum_result=5+3\n",
    "sum_result"
   ]
  },
  {
   "cell_type": "markdown",
   "id": "061e0725",
   "metadata": {},
   "source": [
    "### Exercise 5:\n",
    "Assign multiple variables in one line: `a = 5`, `b = 10`, `c = 15`."
   ]
  },
  {
   "cell_type": "code",
   "execution_count": 15,
   "id": "fcc626a6",
   "metadata": {},
   "outputs": [
    {
     "data": {
      "text/plain": [
       "15"
      ]
     },
     "execution_count": 15,
     "metadata": {},
     "output_type": "execute_result"
    }
   ],
   "source": [
    "a = 5\n",
    "b = 10 \n",
    "c = 15\n"
   ]
  },
  {
   "cell_type": "markdown",
   "id": "bfa8baea",
   "metadata": {},
   "source": [
    "### Exercise 6:\n",
    "Assign the value of one variable `x` to another variable `y`."
   ]
  },
  {
   "cell_type": "code",
   "execution_count": 17,
   "id": "550d47f5",
   "metadata": {},
   "outputs": [
    {
     "data": {
      "text/plain": [
       "4"
      ]
     },
     "execution_count": 17,
     "metadata": {},
     "output_type": "execute_result"
    }
   ],
   "source": [
    "x=y=4\n",
    "y"
   ]
  },
  {
   "cell_type": "markdown",
   "id": "9f7e389e",
   "metadata": {},
   "source": [
    "### Exercise 7:\n",
    "Assign a floating-point number `9.8` to a variable `gravity`.\n",
    "\n"
   ]
  },
  {
   "cell_type": "code",
   "execution_count": 19,
   "id": "91adabf4",
   "metadata": {},
   "outputs": [
    {
     "data": {
      "text/plain": [
       "float"
      ]
     },
     "execution_count": 19,
     "metadata": {},
     "output_type": "execute_result"
    }
   ],
   "source": [
    "gravity=9.8\n",
    "type(gravity)"
   ]
  },
  {
   "cell_type": "markdown",
   "id": "e4bb0b18",
   "metadata": {},
   "source": [
    "### Exercise 8:\n",
    "Create a variable `country` and assign it the string value of your favorite country.\n"
   ]
  },
  {
   "cell_type": "code",
   "execution_count": 20,
   "id": "05193d74",
   "metadata": {},
   "outputs": [
    {
     "data": {
      "text/plain": [
       "str"
      ]
     },
     "execution_count": 20,
     "metadata": {},
     "output_type": "execute_result"
    }
   ],
   "source": [
    "country=\"seneagl\"\n",
    "type(country)"
   ]
  },
  {
   "cell_type": "markdown",
   "id": "987f8902",
   "metadata": {},
   "source": [
    "### Exercise 9:\n",
    "Change the value of variable `age` from `25` to `26` in two separate steps."
   ]
  },
  {
   "cell_type": "code",
   "execution_count": 22,
   "id": "b1c7b765",
   "metadata": {},
   "outputs": [
    {
     "data": {
      "text/plain": [
       "26"
      ]
     },
     "execution_count": 22,
     "metadata": {},
     "output_type": "execute_result"
    }
   ],
   "source": [
    "age=25\n",
    "age=26\n",
    "age"
   ]
  },
  {
   "cell_type": "markdown",
   "id": "36cb83bc",
   "metadata": {},
   "source": [
    "### Exercise 10:\n",
    "Use one variable to store the result of subtracting two numbers `20 - 7`.\n"
   ]
  },
  {
   "cell_type": "code",
   "execution_count": 23,
   "id": "ceb561b2",
   "metadata": {},
   "outputs": [
    {
     "data": {
      "text/plain": [
       "13"
      ]
     },
     "execution_count": 23,
     "metadata": {},
     "output_type": "execute_result"
    }
   ],
   "source": [
    "result=20-7\n",
    "result"
   ]
  },
  {
   "cell_type": "markdown",
   "id": "a71fa224",
   "metadata": {},
   "source": [
    "### Exercise 11:\n",
    "Assign an integer value and a floating-point value to two different variables.\n"
   ]
  },
  {
   "cell_type": "code",
   "execution_count": 25,
   "id": "99f8be7b",
   "metadata": {},
   "outputs": [],
   "source": [
    "val=34\n",
    "bel=7.9\n"
   ]
  },
  {
   "cell_type": "markdown",
   "id": "eca71b15",
   "metadata": {},
   "source": [
    "### Exercise 12:\n",
    "Assign a boolean value `False` to a variable `is_completed`.\n"
   ]
  },
  {
   "cell_type": "code",
   "execution_count": 29,
   "id": "2b197caf",
   "metadata": {},
   "outputs": [
    {
     "data": {
      "text/plain": [
       "False"
      ]
     },
     "execution_count": 29,
     "metadata": {},
     "output_type": "execute_result"
    }
   ],
   "source": [
    "is_completed\n"
   ]
  },
  {
   "cell_type": "markdown",
   "id": "40f9d512",
   "metadata": {},
   "source": [
    "### Exercise 13:\n",
    "Swap the values of two variables `x` and `y`."
   ]
  },
  {
   "cell_type": "code",
   "execution_count": 30,
   "id": "83634070",
   "metadata": {},
   "outputs": [
    {
     "data": {
      "text/plain": [
       "23"
      ]
     },
     "execution_count": 30,
     "metadata": {},
     "output_type": "execute_result"
    }
   ],
   "source": [
    "x=23\n",
    "y=x\n",
    "y"
   ]
  },
  {
   "cell_type": "markdown",
   "id": "969dbaf6",
   "metadata": {},
   "source": [
    "### Exercise 14:\n",
    "Assign a complex number `3 + 4j` to a variable `complex_num`."
   ]
  },
  {
   "cell_type": "code",
   "execution_count": 31,
   "id": "9740373b",
   "metadata": {},
   "outputs": [
    {
     "data": {
      "text/plain": [
       "(3+4j)"
      ]
     },
     "execution_count": 31,
     "metadata": {},
     "output_type": "execute_result"
    }
   ],
   "source": [
    "complex_num=3+4j\n",
    "complex_num"
   ]
  },
  {
   "cell_type": "markdown",
   "id": "ae610329",
   "metadata": {},
   "source": [
    "### Exercise 15:\n",
    "Reassign a variable from an integer to a string."
   ]
  },
  {
   "cell_type": "code",
   "execution_count": 32,
   "id": "4cdde977",
   "metadata": {},
   "outputs": [
    {
     "data": {
      "text/plain": [
       "str"
      ]
     },
     "execution_count": 32,
     "metadata": {},
     "output_type": "execute_result"
    }
   ],
   "source": [
    "x=12\n",
    "y=str(x)\n",
    "type(y)"
   ]
  },
  {
   "cell_type": "markdown",
   "id": "24ab0801",
   "metadata": {},
   "source": [
    "### Exercise 16:\n",
    "Create two variables `first_name` and `last_name`, and assign them your first and last names.\n"
   ]
  },
  {
   "cell_type": "code",
   "execution_count": 35,
   "id": "2659cac8",
   "metadata": {},
   "outputs": [
    {
     "name": "stdout",
     "output_type": "stream",
     "text": [
      "maimouna ndoye\n"
     ]
    }
   ],
   "source": [
    "first_name='maimouna'\n",
    "last_name='ndoye'\n",
    "print(first_name,last_name)\n"
   ]
  },
  {
   "cell_type": "markdown",
   "id": "30fbc8ed",
   "metadata": {},
   "source": [
    "### Exercise 17:\n",
    "Create a variable `temperature` and assign it the value of `35.5`.\n"
   ]
  },
  {
   "cell_type": "code",
   "execution_count": 36,
   "id": "2995262a",
   "metadata": {},
   "outputs": [
    {
     "data": {
      "text/plain": [
       "35.5"
      ]
     },
     "execution_count": 36,
     "metadata": {},
     "output_type": "execute_result"
    }
   ],
   "source": [
    "temperature=35.5\n",
    "temperature"
   ]
  },
  {
   "cell_type": "markdown",
   "id": "04a54d19",
   "metadata": {},
   "source": [
    "\n",
    "### Exercise 18:\n",
    "Assign the result of the multiplication of two numbers `8 * 6` to a variable `product`.\n"
   ]
  },
  {
   "cell_type": "code",
   "execution_count": 40,
   "id": "a96510c7",
   "metadata": {},
   "outputs": [
    {
     "data": {
      "text/plain": [
       "48"
      ]
     },
     "execution_count": 40,
     "metadata": {},
     "output_type": "execute_result"
    }
   ],
   "source": [
    "product=8*6 \n",
    "product"
   ]
  },
  {
   "cell_type": "markdown",
   "id": "58aeeb40",
   "metadata": {},
   "source": [
    "### Exercise 19:\n",
    "Assign a sentence of your choice to a variable `sentence`."
   ]
  },
  {
   "cell_type": "code",
   "execution_count": 41,
   "id": "a4114ca0",
   "metadata": {},
   "outputs": [
    {
     "data": {
      "text/plain": [
       "int"
      ]
     },
     "execution_count": 41,
     "metadata": {},
     "output_type": "execute_result"
    }
   ],
   "source": [
    "sentence=56\n",
    "type(sentence)"
   ]
  },
  {
   "cell_type": "markdown",
   "id": "fdcdb3cd",
   "metadata": {},
   "source": [
    "### Exercise 20:\n",
    "Use an assignment to convert a string `'50'` into an integer variable `int_value`.\n"
   ]
  },
  {
   "cell_type": "code",
   "execution_count": 43,
   "id": "784d827a",
   "metadata": {},
   "outputs": [
    {
     "data": {
      "text/plain": [
       "50"
      ]
     },
     "execution_count": 43,
     "metadata": {},
     "output_type": "execute_result"
    }
   ],
   "source": [
    "n='50'\n",
    "i=int(n)\n",
    "i"
   ]
  },
  {
   "cell_type": "markdown",
   "id": "1b1ef613",
   "metadata": {},
   "source": [
    "### Exercise 21:\n",
    "Assign the result of dividing `144` by `12` to a variable `quotient`."
   ]
  },
  {
   "cell_type": "code",
   "execution_count": 44,
   "id": "b1d22466",
   "metadata": {},
   "outputs": [
    {
     "data": {
      "text/plain": [
       "12.0"
      ]
     },
     "execution_count": 44,
     "metadata": {},
     "output_type": "execute_result"
    }
   ],
   "source": [
    "result_div=144/12\n",
    "result_div"
   ]
  },
  {
   "cell_type": "markdown",
   "id": "bc29e5de",
   "metadata": {},
   "source": [
    "### Exercise 22:\n",
    "Assign the remainder of `47 divided by 5` to a variable `remainder`."
   ]
  },
  {
   "cell_type": "code",
   "execution_count": 45,
   "id": "7f9509a5",
   "metadata": {},
   "outputs": [
    {
     "data": {
      "text/plain": [
       "3.9166666666666665"
      ]
     },
     "execution_count": 45,
     "metadata": {},
     "output_type": "execute_result"
    }
   ],
   "source": [
    "remainder=47/12\n",
    "remainder"
   ]
  },
  {
   "cell_type": "markdown",
   "id": "e0d12b20",
   "metadata": {},
   "source": [
    "### Exercise 23:\n",
    "Create a variable `is_student` and assign it the value `True`."
   ]
  },
  {
   "cell_type": "code",
   "execution_count": 47,
   "id": "3af3683c",
   "metadata": {},
   "outputs": [
    {
     "data": {
      "text/plain": [
       "True"
      ]
     },
     "execution_count": 47,
     "metadata": {},
     "output_type": "execute_result"
    }
   ],
   "source": [
    "is_student=True\n",
    "is_student"
   ]
  },
  {
   "cell_type": "markdown",
   "id": "0d075c99",
   "metadata": {},
   "source": [
    "### Exercise 24:\n",
    "Use a variable to store the result of a modulo operation: `45 % 4`.\n"
   ]
  },
  {
   "cell_type": "code",
   "execution_count": 48,
   "id": "6f94e4df",
   "metadata": {},
   "outputs": [
    {
     "data": {
      "text/plain": [
       "1"
      ]
     },
     "execution_count": 48,
     "metadata": {},
     "output_type": "execute_result"
    }
   ],
   "source": [
    "result_mod=45%4\n",
    "result_mod"
   ]
  },
  {
   "cell_type": "markdown",
   "id": "53e43cca",
   "metadata": {},
   "source": [
    "### Exercise 25:\n",
    "Create a variable `pi` and assign it the value `3.14159`."
   ]
  },
  {
   "cell_type": "code",
   "execution_count": 49,
   "id": "a46c8d45",
   "metadata": {},
   "outputs": [
    {
     "data": {
      "text/plain": [
       "3.14159"
      ]
     },
     "execution_count": 49,
     "metadata": {},
     "output_type": "execute_result"
    }
   ],
   "source": [
    "pi=3.14159\n",
    "pi"
   ]
  },
  {
   "cell_type": "markdown",
   "id": "cd7d750d",
   "metadata": {},
   "source": [
    "### Exercise 26:\n",
    "Create two variables `length` and `width`, assign them values, and calculate the area of a rectangle."
   ]
  },
  {
   "cell_type": "code",
   "execution_count": 52,
   "id": "8a71ad6a",
   "metadata": {},
   "outputs": [
    {
     "data": {
      "text/plain": [
       "322"
      ]
     },
     "execution_count": 52,
     "metadata": {},
     "output_type": "execute_result"
    }
   ],
   "source": [
    "lenght=23\n",
    "width=14\n",
    "area=lenght*width\n",
    "area"
   ]
  },
  {
   "cell_type": "markdown",
   "id": "8cd1da08",
   "metadata": {},
   "source": [
    "\n",
    "### Exercise 27:\n",
    "Assign a negative number to a variable `negative_value`."
   ]
  },
  {
   "cell_type": "code",
   "execution_count": 53,
   "id": "e2c6fd82",
   "metadata": {},
   "outputs": [
    {
     "data": {
      "text/plain": [
       "-456"
      ]
     },
     "execution_count": 53,
     "metadata": {},
     "output_type": "execute_result"
    }
   ],
   "source": [
    "negative_value=-456\n",
    "negative_value"
   ]
  },
  {
   "cell_type": "markdown",
   "id": "349445a5",
   "metadata": {},
   "source": [
    "### Exercise 28:\n",
    "Assign a string containing a special character (e.g., \"Hello, World!\") to a variable `greeting`.\n"
   ]
  },
  {
   "cell_type": "code",
   "execution_count": 84,
   "id": "d634f51f",
   "metadata": {},
   "outputs": [
    {
     "data": {
      "text/plain": [
       "'hello word$'"
      ]
     },
     "execution_count": 84,
     "metadata": {},
     "output_type": "execute_result"
    }
   ],
   "source": [
    "greeting=\"hello word$\"\n",
    "greeting"
   ]
  },
  {
   "cell_type": "markdown",
   "id": "c51b4233",
   "metadata": {},
   "source": [
    "\n",
    "### Exercise 29:\n",
    "Create a variable `population` and assign it a large integer value (in billions)."
   ]
  },
  {
   "cell_type": "code",
   "execution_count": 57,
   "id": "875738e1",
   "metadata": {},
   "outputs": [
    {
     "data": {
      "text/plain": [
       "1234769586755362534456879"
      ]
     },
     "execution_count": 57,
     "metadata": {},
     "output_type": "execute_result"
    }
   ],
   "source": [
    "population=12347699887\n",
    "population"
   ]
  },
  {
   "cell_type": "markdown",
   "id": "a31a556b",
   "metadata": {},
   "source": [
    "### Exercise 30:\n",
    "\n",
    "Use a variable to store the result of raising `2` to the power of `8`."
   ]
  },
  {
   "cell_type": "code",
   "execution_count": 59,
   "id": "c5e432b4",
   "metadata": {},
   "outputs": [
    {
     "data": {
      "text/plain": [
       "256"
      ]
     },
     "execution_count": 59,
     "metadata": {},
     "output_type": "execute_result"
    }
   ],
   "source": [
    "result_power=2**8\n",
    "result_power"
   ]
  },
  {
   "cell_type": "markdown",
   "id": "87ba4f16",
   "metadata": {},
   "source": [
    "\n",
    "### Exercise 31:\n",
    "Assign a list of your favorite fruits to a variable `fruits`."
   ]
  },
  {
   "cell_type": "code",
   "execution_count": 60,
   "id": "32b13105",
   "metadata": {},
   "outputs": [
    {
     "data": {
      "text/plain": [
       "['mangue', 'pomme', 'banane', 'poire']"
      ]
     },
     "execution_count": 60,
     "metadata": {},
     "output_type": "execute_result"
    }
   ],
   "source": [
    "fruits=['mangue','pomme','banane','poire']\n",
    "fruits"
   ]
  },
  {
   "cell_type": "markdown",
   "id": "ee00250e",
   "metadata": {},
   "source": [
    "\n",
    "### Exercise 32:\n",
    "Assign a tuple of three numbers to a variable `coordinates`.\n"
   ]
  },
  {
   "cell_type": "code",
   "execution_count": 63,
   "id": "b272286b",
   "metadata": {},
   "outputs": [
    {
     "data": {
      "text/plain": [
       "tuple"
      ]
     },
     "execution_count": 63,
     "metadata": {},
     "output_type": "execute_result"
    }
   ],
   "source": [
    "coordinates=(2,4,78)\n",
    "type(coordinates)"
   ]
  },
  {
   "cell_type": "markdown",
   "id": "ea6b910f",
   "metadata": {},
   "source": [
    "### Exercise 33:\n",
    "Assign a dictionary with keys `name` and `age` to a variable `person`."
   ]
  },
  {
   "cell_type": "code",
   "execution_count": 64,
   "id": "2c35e12f",
   "metadata": {},
   "outputs": [
    {
     "data": {
      "text/plain": [
       "{'maimouna': 23, 'fatima': 35, 'zoya': 67, 'pathe': 35}"
      ]
     },
     "execution_count": 64,
     "metadata": {},
     "output_type": "execute_result"
    }
   ],
   "source": [
    "person={'maimouna':23,'fatima':35,'zoya':67,'pathe':35}\n",
    "person\n"
   ]
  },
  {
   "cell_type": "code",
   "execution_count": 67,
   "id": "6286d263",
   "metadata": {},
   "outputs": [
    {
     "data": {
      "text/plain": [
       "23"
      ]
     },
     "execution_count": 67,
     "metadata": {},
     "output_type": "execute_result"
    }
   ],
   "source": [
    "person['maimouna']"
   ]
  },
  {
   "cell_type": "markdown",
   "id": "14d7ed60",
   "metadata": {},
   "source": [
    "## Exercise 34:\n",
    "Use variables to store the sum of two floating-point numbers."
   ]
  },
  {
   "cell_type": "code",
   "execution_count": 68,
   "id": "284f0a5e",
   "metadata": {},
   "outputs": [
    {
     "data": {
      "text/plain": [
       "135.39999999999998"
      ]
     },
     "execution_count": 68,
     "metadata": {},
     "output_type": "execute_result"
    }
   ],
   "source": [
    "var_result=45.8+89.6\n",
    "var_result"
   ]
  },
  {
   "cell_type": "markdown",
   "id": "f83c1f7e",
   "metadata": {},
   "source": [
    "### Exercise 35:\n",
    "Create a variable `is_sunny` and assign it the result of a comparison `10 > 5`."
   ]
  },
  {
   "cell_type": "code",
   "execution_count": 71,
   "id": "e56497b6",
   "metadata": {},
   "outputs": [
    {
     "data": {
      "text/plain": [
       "True"
      ]
     },
     "execution_count": 71,
     "metadata": {},
     "output_type": "execute_result"
    }
   ],
   "source": [
    "is_sunny=10>5\n",
    "is_sunny"
   ]
  },
  {
   "cell_type": "markdown",
   "id": "cb661da9",
   "metadata": {},
   "source": [
    "### Exercise 36:\n",
    "Assign a string and an integer to two different variables, then print both on one line.\n"
   ]
  },
  {
   "cell_type": "code",
   "execution_count": 72,
   "id": "9722fd0e",
   "metadata": {},
   "outputs": [
    {
     "name": "stdout",
     "output_type": "stream",
     "text": [
      "kama 74\n"
     ]
    }
   ],
   "source": [
    "name='kama'\n",
    "age=74\n",
    "print(name,age)"
   ]
  },
  {
   "cell_type": "markdown",
   "id": "1455a184",
   "metadata": {},
   "source": [
    "### Exercise 37:\n",
    "Reassign a variable that originally held a number to a boolean value."
   ]
  },
  {
   "cell_type": "code",
   "execution_count": 73,
   "id": "4ac9b5f5",
   "metadata": {},
   "outputs": [
    {
     "data": {
      "text/plain": [
       "True"
      ]
     },
     "execution_count": 73,
     "metadata": {},
     "output_type": "execute_result"
    }
   ],
   "source": [
    "d=34\n",
    "d=True\n",
    "d"
   ]
  },
  {
   "cell_type": "markdown",
   "id": "db7160e8",
   "metadata": {},
   "source": [
    "\n",
    "### Exercise 38:\n",
    "Create a variable `is_weekend` and assign it the result of `False`.\n"
   ]
  },
  {
   "cell_type": "code",
   "execution_count": 74,
   "id": "d1c62b6a",
   "metadata": {},
   "outputs": [
    {
     "data": {
      "text/plain": [
       "False"
      ]
     },
     "execution_count": 74,
     "metadata": {},
     "output_type": "execute_result"
    }
   ],
   "source": [
    "is_weekend=False\n",
    "is_weekend"
   ]
  },
  {
   "cell_type": "markdown",
   "id": "8a593f6c",
   "metadata": {},
   "source": [
    "### Exercise 39:\n",
    "Assign a multi-line string to a variable `description`."
   ]
  },
  {
   "cell_type": "code",
   "execution_count": 95,
   "id": "9ab7f8d8",
   "metadata": {},
   "outputs": [
    {
     "data": {
      "text/plain": [
       "'wertyuijkkkldotogtjhhdkfdfjfkgkgfdhjfkkgi'"
      ]
     },
     "execution_count": 95,
     "metadata": {},
     "output_type": "execute_result"
    }
   ],
   "source": [
    "description=\"wertyuijkkkldotogtjhhdkfdfjfkgkgfdhjfkkgi\"\n",
    "description"
   ]
  },
  {
   "cell_type": "markdown",
   "id": "b3fb0aa5",
   "metadata": {},
   "source": [
    "### Exercise 41:\n",
    "Assign the result of a floor division `100 // 6` to a variable `floor_div_result`."
   ]
  },
  {
   "cell_type": "code",
   "execution_count": 75,
   "id": "99f49644",
   "metadata": {},
   "outputs": [
    {
     "data": {
      "text/plain": [
       "16"
      ]
     },
     "execution_count": 75,
     "metadata": {},
     "output_type": "execute_result"
    }
   ],
   "source": [
    "floor_div_result=100//6\n",
    "floor_div_result"
   ]
  },
  {
   "cell_type": "markdown",
   "id": "5aebd1f7",
   "metadata": {},
   "source": [
    "### Exercise 42:\n",
    "Assign the result of adding a floating-point number to an integer to a variable `mixed_sum`."
   ]
  },
  {
   "cell_type": "code",
   "execution_count": 101,
   "id": "58f88b34",
   "metadata": {},
   "outputs": [
    {
     "data": {
      "text/plain": [
       "103.57000000000001"
      ]
     },
     "execution_count": 101,
     "metadata": {},
     "output_type": "execute_result"
    }
   ],
   "source": [
    "\n",
    "mixed_sum=1.34+34.67+67.56\n",
    "mixed_sum"
   ]
  },
  {
   "cell_type": "markdown",
   "id": "40cba975",
   "metadata": {},
   "source": [
    "### Exercise 43:\n",
    "Assign a boolean value based on the comparison of two variables `a = 10` and `b = 15`.\n"
   ]
  },
  {
   "cell_type": "code",
   "execution_count": 100,
   "id": "96587da5",
   "metadata": {},
   "outputs": [
    {
     "data": {
      "text/plain": [
       "False"
      ]
     },
     "execution_count": 100,
     "metadata": {},
     "output_type": "execute_result"
    }
   ],
   "source": [
    "a=10\n",
    "b=15\n",
    "result=a>b\n",
    "result\n",
    "\n",
    "\n"
   ]
  },
  {
   "cell_type": "markdown",
   "id": "2ab11bfe",
   "metadata": {},
   "source": [
    "### Exercise 44:\n",
    "Assign a long sentence to a variable and count its characters using `len()`."
   ]
  },
  {
   "cell_type": "code",
   "execution_count": 81,
   "id": "066d1463",
   "metadata": {},
   "outputs": [
    {
     "data": {
      "text/plain": [
       "14"
      ]
     },
     "execution_count": 81,
     "metadata": {},
     "output_type": "execute_result"
    }
   ],
   "source": [
    "name='maimouna ndoye'\n",
    "len(name)"
   ]
  },
  {
   "cell_type": "markdown",
   "id": "5da3e54c",
   "metadata": {},
   "source": [
    "### Exercise 45:\n",
    "Assign a fractional result `7 / 3` to a variable `division_result`.\n"
   ]
  },
  {
   "cell_type": "code",
   "execution_count": 83,
   "id": "e9ab30da",
   "metadata": {},
   "outputs": [
    {
     "data": {
      "text/plain": [
       "2.3333333333333335"
      ]
     },
     "execution_count": 83,
     "metadata": {},
     "output_type": "execute_result"
    }
   ],
   "source": [
    "division_result=7/3\n",
    "division_result"
   ]
  },
  {
   "cell_type": "markdown",
   "id": "bb0a4e2f",
   "metadata": {},
   "source": [
    "### Exercise 46:\n",
    "Create a variable `speed` and assign it the value of 100 kilometers per hour.\n",
    "\n"
   ]
  },
  {
   "cell_type": "code",
   "execution_count": 88,
   "id": "ec7a1f49",
   "metadata": {},
   "outputs": [
    {
     "data": {
      "text/plain": [
       "1.6666666666666667"
      ]
     },
     "execution_count": 88,
     "metadata": {},
     "output_type": "execute_result"
    }
   ],
   "source": [
    "speed=100/60\n",
    "speed"
   ]
  },
  {
   "cell_type": "markdown",
   "id": "81bec9da",
   "metadata": {},
   "source": [
    "### Exercise 47:\n",
    "Assign a multi-variable equation like `y = 3x + 5` where `x = 4` to a variable `y`."
   ]
  },
  {
   "cell_type": "code",
   "execution_count": 89,
   "id": "efd04ab9",
   "metadata": {},
   "outputs": [
    {
     "data": {
      "text/plain": [
       "171"
      ]
     },
     "execution_count": 89,
     "metadata": {},
     "output_type": "execute_result"
    }
   ],
   "source": [
    "x=56\n",
    "y=3*x +3\n",
    "y"
   ]
  },
  {
   "cell_type": "markdown",
   "id": "8ba00a1d",
   "metadata": {},
   "source": [
    "### Exercise 48:\n",
    "Use variables to calculate and store the average of three numbers.\n"
   ]
  },
  {
   "cell_type": "code",
   "execution_count": 90,
   "id": "6295dc49",
   "metadata": {},
   "outputs": [
    {
     "data": {
      "text/plain": [
       "48.666666666666664"
      ]
     },
     "execution_count": 90,
     "metadata": {},
     "output_type": "execute_result"
    }
   ],
   "source": [
    "a=23\n",
    "b=45\n",
    "c=78\n",
    "mean=(a+b+c)/3\n",
    "mean"
   ]
  },
  {
   "cell_type": "code",
   "execution_count": null,
   "id": "5bc37f3e",
   "metadata": {},
   "outputs": [],
   "source": []
  }
 ],
 "metadata": {
  "colab": {
   "provenance": []
  },
  "kernelspec": {
   "display_name": "Python 3 (ipykernel)",
   "language": "python",
   "name": "python3"
  },
  "language_info": {
   "codemirror_mode": {
    "name": "ipython",
    "version": 3
   },
   "file_extension": ".py",
   "mimetype": "text/x-python",
   "name": "python",
   "nbconvert_exporter": "python",
   "pygments_lexer": "ipython3",
   "version": "3.10.12"
  }
 },
 "nbformat": 4,
 "nbformat_minor": 5
}
