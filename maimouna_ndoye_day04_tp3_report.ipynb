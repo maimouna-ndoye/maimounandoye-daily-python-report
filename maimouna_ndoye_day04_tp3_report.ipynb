{
 "cells": [
  {
   "cell_type": "markdown",
   "id": "d68c1dee",
   "metadata": {
    "id": "d68c1dee"
   },
   "source": [
    "# Practical_3: Iterable objects or Containers"
   ]
  },
  {
   "cell_type": "markdown",
   "id": "4ac537ff",
   "metadata": {
    "id": "bea983a3"
   },
   "source": [
    "---\n",
    "\n",
    "### Exercise 1:\n",
    "Create a list of integers from 1 to 10.\n",
    "\n",
    "```python\n",
    "# Exercise 1\n",
    "```"
   ]
  },
  {
   "cell_type": "code",
   "execution_count": 2,
   "id": "f4603c87",
   "metadata": {},
   "outputs": [
    {
     "data": {
      "text/plain": [
       "[1, 2, 3, 4, 5, 6, 7, 8, 9, 10]"
      ]
     },
     "execution_count": 2,
     "metadata": {},
     "output_type": "execute_result"
    }
   ],
   "source": [
    "liste=[1,2,3,4,5,6,7,8,9,10]\n",
    "liste"
   ]
  },
  {
   "cell_type": "markdown",
   "id": "a99c4b25",
   "metadata": {
    "id": "bea983a3"
   },
   "source": [
    "---\n",
    "\n",
    "### Exercise 2:\n",
    "Create a tuple containing the elements `\"apple\"`, `\"banana\"`, and `\"cherry\"`.\n",
    "\n",
    "```python\n",
    "# Exercise 2\n",
    "```"
   ]
  },
  {
   "cell_type": "code",
   "execution_count": 3,
   "id": "b0a733b1",
   "metadata": {},
   "outputs": [
    {
     "data": {
      "text/plain": [
       "('apple', 'banana', 'cherry')"
      ]
     },
     "execution_count": 3,
     "metadata": {},
     "output_type": "execute_result"
    }
   ],
   "source": [
    "tuple_fruit=(\"apple\", \"banana\",\"cherry\")\n",
    "tuple_fruit"
   ]
  },
  {
   "cell_type": "markdown",
   "id": "99b341f4",
   "metadata": {
    "id": "bea983a3"
   },
   "source": [
    "---\n",
    "\n",
    "### Exercise 3:\n",
    "Convert the list `numbers = [10, 20, 30, 40]` into a tuple.\n",
    "\n",
    "```python\n",
    "# Exercise 3\n",
    "```"
   ]
  },
  {
   "cell_type": "code",
   "execution_count": 4,
   "id": "ad670db6",
   "metadata": {},
   "outputs": [
    {
     "data": {
      "text/plain": [
       "(10, 20, 30, 40)"
      ]
     },
     "execution_count": 4,
     "metadata": {},
     "output_type": "execute_result"
    }
   ],
   "source": [
    "numbers = [10, 20, 30, 40]\n",
    "numbers_tuple=tuple(numbers)\n",
    "numbers_tuple"
   ]
  },
  {
   "cell_type": "markdown",
   "id": "d9228351",
   "metadata": {
    "id": "bea983a3"
   },
   "source": [
    "---\n",
    "\n",
    "### Exercise 4:\n",
    "Create a set containing the elements `1, 2, 3, 4, 5`.\n",
    "\n",
    "```python\n",
    "# Exercise 4\n",
    "```"
   ]
  },
  {
   "cell_type": "code",
   "execution_count": 6,
   "id": "633c2ed2",
   "metadata": {},
   "outputs": [
    {
     "data": {
      "text/plain": [
       "{1, 2, 3, 4, 5}"
      ]
     },
     "execution_count": 6,
     "metadata": {},
     "output_type": "execute_result"
    }
   ],
   "source": [
    "set_elt={1, 2, 3, 4, 5}\n",
    "set_elt"
   ]
  },
  {
   "cell_type": "markdown",
   "id": "d90cb135",
   "metadata": {
    "id": "bea983a3"
   },
   "source": [
    "---\n",
    "\n",
    "### Exercise 5:\n",
    "Create a dictionary `student` with the keys `\"name\"`, `\"age\"`, and `\"grade\"` and corresponding values `\"Alice\"`, `20`, and `\"A\"`.\n",
    "\n",
    "```python\n",
    "# Exercise 5\n",
    "```"
   ]
  },
  {
   "cell_type": "code",
   "execution_count": 7,
   "id": "023be0de",
   "metadata": {},
   "outputs": [
    {
     "data": {
      "text/plain": [
       "{'name': 'Alice', 'age': 20, 'grade': 'A'}"
      ]
     },
     "execution_count": 7,
     "metadata": {},
     "output_type": "execute_result"
    }
   ],
   "source": [
    "student={'name':\"Alice\",'age':20,'grade':\"A\"}\n",
    "student"
   ]
  },
  {
   "cell_type": "markdown",
   "id": "fe02188c",
   "metadata": {
    "id": "bea983a3"
   },
   "source": [
    "---\n",
    "\n",
    "### Exercise 6:\n",
    "Access the second element of the list `[10, 20, 30, 40, 50]` using indexing.\n",
    "\n",
    "```python\n",
    "# Exercise 6\n",
    "```"
   ]
  },
  {
   "cell_type": "code",
   "execution_count": 11,
   "id": "8724de41",
   "metadata": {},
   "outputs": [
    {
     "data": {
      "text/plain": [
       "20"
      ]
     },
     "execution_count": 11,
     "metadata": {},
     "output_type": "execute_result"
    }
   ],
   "source": [
    "liste_access=[10, 20, 30, 40, 50]\n",
    "liste_access[1]\n"
   ]
  },
  {
   "cell_type": "markdown",
   "id": "c42a312c",
   "metadata": {
    "id": "bea983a3"
   },
   "source": [
    "---\n",
    "\n",
    "### Exercise 7:\n",
    "Change the third element of the list `fruits = [\"apple\", \"banana\", \"cherry\", \"orange\"]` to `\"mango\"`.\n",
    "\n",
    "```python\n",
    "# Exercise 7\n",
    "```"
   ]
  },
  {
   "cell_type": "code",
   "execution_count": 12,
   "id": "916a8b85",
   "metadata": {},
   "outputs": [
    {
     "data": {
      "text/plain": [
       "['apple', 'banana', 'mango', 'orange']"
      ]
     },
     "execution_count": 12,
     "metadata": {},
     "output_type": "execute_result"
    }
   ],
   "source": [
    "fruits = [\"apple\", \"banana\", \"cherry\", \"orange\"]\n",
    "fruits[2]=\"mango\"\n",
    "fruits"
   ]
  },
  {
   "cell_type": "markdown",
   "id": "52520077",
   "metadata": {
    "id": "bea983a3"
   },
   "source": [
    "---\n",
    "\n",
    "### Exercise 8:\n",
    "Add the number `6` to the set `numbers = {1, 2, 3, 4, 5}`.\n",
    "\n",
    "```python\n",
    "# Exercise 8\n",
    "```"
   ]
  },
  {
   "cell_type": "code",
   "execution_count": 14,
   "id": "c1192e90",
   "metadata": {},
   "outputs": [
    {
     "data": {
      "text/plain": [
       "{1, 2, 3, 4, 5, 6}"
      ]
     },
     "execution_count": 14,
     "metadata": {},
     "output_type": "execute_result"
    }
   ],
   "source": [
    "numbers = {1, 2, 3, 4, 5}\n",
    "numbers.add(6)\n",
    "numbers\n"
   ]
  },
  {
   "cell_type": "markdown",
   "id": "f59b77df",
   "metadata": {
    "id": "bea983a3"
   },
   "source": [
    "---\n",
    "\n",
    "### Exercise 9:\n",
    "Remove the key `\"age\"` from the dictionary `person = {\"name\": \"John\", \"age\": 25, \"city\": \"New York\"}`.\n",
    "\n",
    "```python\n",
    "# Exercise 9\n",
    "```"
   ]
  },
  {
   "cell_type": "code",
   "execution_count": 15,
   "id": "cba8efdc",
   "metadata": {},
   "outputs": [
    {
     "data": {
      "text/plain": [
       "{'name': 'John', 'city': 'New York'}"
      ]
     },
     "execution_count": 15,
     "metadata": {},
     "output_type": "execute_result"
    }
   ],
   "source": [
    "person = {\"name\": \"John\", \"age\": 25, \"city\": \"New York\"}\n",
    "del person[\"age\"]\n",
    "person"
   ]
  },
  {
   "cell_type": "markdown",
   "id": "6df153b2",
   "metadata": {
    "id": "bea983a3"
   },
   "source": [
    "---\n",
    "\n",
    "### Exercise 10:\n",
    "Create a range object starting from 0 to 9.\n",
    "\n",
    "```python--\n",
    "# Exercise 10\n",
    "```"
   ]
  },
  {
   "cell_type": "code",
   "execution_count": 17,
   "id": "a00cf2be",
   "metadata": {},
   "outputs": [
    {
     "name": "stdout",
     "output_type": "stream",
     "text": [
      "1\n",
      "2\n",
      "3\n",
      "4\n",
      "5\n",
      "6\n",
      "7\n",
      "8\n"
     ]
    }
   ],
   "source": [
    "for i in range(1,9):\n",
    "    print(i)"
   ]
  },
  {
   "cell_type": "markdown",
   "id": "55356914",
   "metadata": {
    "id": "bea983a3"
   },
   "source": [
    "---\n",
    "\n",
    "### Exercise 11:\n",
    "Use a list comprehension to create a list of squares of numbers from 1 to 10.\n",
    "\n",
    "```python\n",
    "# Exercise 11\n",
    "```"
   ]
  },
  {
   "cell_type": "code",
   "execution_count": 4,
   "id": "1b5c7215",
   "metadata": {},
   "outputs": [
    {
     "data": {
      "text/plain": [
       "[1, 4, 9, 16, 25, 36, 49, 64, 81]"
      ]
     },
     "execution_count": 4,
     "metadata": {},
     "output_type": "execute_result"
    }
   ],
   "source": [
    "\n",
    "new_liste=[x*x for x in range(1,10)]\n",
    "new_liste\n",
    "    "
   ]
  },
  {
   "cell_type": "markdown",
   "id": "4e51680b",
   "metadata": {
    "id": "bea983a3"
   },
   "source": [
    "---\n",
    "\n",
    "### Exercise 12:\n",
    "Create a tuple of even numbers between 2 and 10 using a tuple comprehension.\n",
    "\n",
    "```python\n",
    "# Exercise 12\n",
    "```"
   ]
  },
  {
   "cell_type": "code",
   "execution_count": 8,
   "id": "0b9b1812",
   "metadata": {},
   "outputs": [
    {
     "name": "stdout",
     "output_type": "stream",
     "text": [
      "2\n",
      "4\n",
      "6\n",
      "8\n"
     ]
    }
   ],
   "source": [
    "tuple_even=(x for x in range(2,10) if x%2==0)\n",
    "for i in tuple_even:\n",
    "    print(i)"
   ]
  },
  {
   "cell_type": "markdown",
   "id": "e9adfd95",
   "metadata": {
    "id": "bea983a3"
   },
   "source": [
    "---\n",
    "\n",
    "### Exercise 13:\n",
    "Use a for loop to iterate through the list `fruits = [\"apple\", \"banana\", \"cherry\"]` and print each element.\n",
    "\n",
    "```python\n",
    "# Exercise 13\n",
    "```"
   ]
  },
  {
   "cell_type": "code",
   "execution_count": 10,
   "id": "a31dad15",
   "metadata": {},
   "outputs": [
    {
     "name": "stdout",
     "output_type": "stream",
     "text": [
      "apple\n",
      "banana\n",
      "cherry\n"
     ]
    }
   ],
   "source": [
    "fruits = [\"apple\", \"banana\", \"cherry\"]\n",
    "for i in fruits :\n",
    "    print(i)\n"
   ]
  },
  {
   "cell_type": "markdown",
   "id": "e9bac58e",
   "metadata": {
    "id": "bea983a3"
   },
   "source": [
    "---\n",
    "\n",
    "### Exercise 14:\n",
    "Check if the value `3` exists in the set `numbers = {1, 2, 3, 4, 5}`.\n",
    "\n",
    "```python\n",
    "# Exercise 14\n",
    "```"
   ]
  },
  {
   "cell_type": "code",
   "execution_count": 10,
   "id": "73db6006",
   "metadata": {},
   "outputs": [
    {
     "name": "stdout",
     "output_type": "stream",
     "text": [
      "True\n"
     ]
    }
   ],
   "source": [
    "numbers = {1, 2, 3, 4, 5}\n",
    "if 3 in numbers:\n",
    "    print(True)\n",
    "else :\n",
    "    print(False)"
   ]
  },
  {
   "cell_type": "code",
   "execution_count": 16,
   "id": "65620820",
   "metadata": {},
   "outputs": [
    {
     "data": {
      "text/plain": [
       "True"
      ]
     },
     "execution_count": 16,
     "metadata": {},
     "output_type": "execute_result"
    }
   ],
   "source": [
    "numbers = {1, 2, 3, 4, 5}\n",
    "lo=False\n",
    "for i  in numbers :\n",
    "    if i==3:\n",
    "        lo=True\n",
    "lo   "
   ]
  },
  {
   "cell_type": "markdown",
   "id": "fdfa1063",
   "metadata": {
    "id": "bea983a3"
   },
   "source": [
    "---\n",
    "\n",
    "### Exercise 14:\n",
    "Check if the value `3` exists in the set `numbers = {1, 2, 3, 4, 5}`."
   ]
  },
  {
   "cell_type": "markdown",
   "id": "0db04053",
   "metadata": {
    "id": "bea983a3"
   },
   "source": [
    "```python\n",
    "# Exercise 14\n",
    "```\n"
   ]
  },
  {
   "cell_type": "markdown",
   "id": "80d77185",
   "metadata": {
    "id": "bea983a3"
   },
   "source": [
    "---\n",
    "\n",
    "### Exercise 15:\n",
    "Use the `len()` function to find the length of the tuple `numbers = (10, 20, 30)`.\n",
    "\n",
    "```python\n",
    "# Exercise 15\n",
    "```"
   ]
  },
  {
   "cell_type": "code",
   "execution_count": 3,
   "id": "feb05e8a",
   "metadata": {},
   "outputs": [
    {
     "data": {
      "text/plain": [
       "3"
      ]
     },
     "execution_count": 3,
     "metadata": {},
     "output_type": "execute_result"
    }
   ],
   "source": [
    "numbers = (10, 20, 30)\n",
    "len_numbers=len(numbers)\n",
    "len_numbers"
   ]
  },
  {
   "cell_type": "markdown",
   "id": "d1d14c8e",
   "metadata": {
    "id": "bea983a3"
   },
   "source": [
    "---\n",
    "\n",
    "### Exercise 16:\n",
    "Add the value `100` at the end of the list `scores = [80, 85, 90, 95]`.\n",
    "\n",
    "```python\n",
    "# Exercise 16\n",
    "```"
   ]
  },
  {
   "cell_type": "code",
   "execution_count": 24,
   "id": "4356ba27",
   "metadata": {},
   "outputs": [
    {
     "data": {
      "text/plain": [
       "[80, 85, 90, 95, 100]"
      ]
     },
     "execution_count": 24,
     "metadata": {},
     "output_type": "execute_result"
    }
   ],
   "source": [
    "\n",
    "scores = [80, 85, 90, 95]\n",
    "scores.extend([100])\n",
    "scores"
   ]
  },
  {
   "cell_type": "code",
   "execution_count": 26,
   "id": "250939aa",
   "metadata": {},
   "outputs": [
    {
     "data": {
      "text/plain": [
       "[80, 85, 90, 95, 100]"
      ]
     },
     "execution_count": 26,
     "metadata": {},
     "output_type": "execute_result"
    }
   ],
   "source": [
    "scores = [80, 85, 90, 95]\n",
    "scores.append(100)\n",
    "scores"
   ]
  },
  {
   "cell_type": "markdown",
   "id": "39edfffe",
   "metadata": {
    "id": "bea983a3"
   },
   "source": [
    "---\n",
    "\n",
    "### Exercise 17:\n",
    "Write a function that takes a list as input and returns the sum of all elements in the list.\n",
    "\n",
    "```python\n",
    "# Exercise 17\n",
    "```\n"
   ]
  },
  {
   "cell_type": "code",
   "execution_count": 40,
   "id": "9b8caeeb",
   "metadata": {},
   "outputs": [],
   "source": [
    "def function_list(liste):\n",
    "    return sum(liste)\n",
    "    "
   ]
  },
  {
   "cell_type": "code",
   "execution_count": 41,
   "id": "a61d9f47",
   "metadata": {},
   "outputs": [
    {
     "data": {
      "text/plain": [
       "65"
      ]
     },
     "execution_count": 41,
     "metadata": {},
     "output_type": "execute_result"
    }
   ],
   "source": [
    "function_list([3,4,58])"
   ]
  },
  {
   "cell_type": "markdown",
   "id": "7f68fffb",
   "metadata": {
    "id": "bea983a3"
   },
   "source": [
    "---\n",
    "\n",
    "### Exercise 18:\n",
    "Create a set containing the unique elements of the list `numbers = [1, 2, 2, 3, 4, 4, 5]`.\n",
    "\n",
    "```python\n",
    "# Exercise 18\n",
    "```"
   ]
  },
  {
   "cell_type": "code",
   "execution_count": 42,
   "id": "3c8ae862",
   "metadata": {},
   "outputs": [
    {
     "data": {
      "text/plain": [
       "set"
      ]
     },
     "execution_count": 42,
     "metadata": {},
     "output_type": "execute_result"
    }
   ],
   "source": [
    "numbers = [1, 2, 2, 3, 4, 4, 5]\n",
    "new_numbers= set(numbers)\n",
    "type(new_numbers)\n"
   ]
  },
  {
   "cell_type": "markdown",
   "id": "24a96bba",
   "metadata": {
    "id": "bea983a3"
   },
   "source": [
    "---\n",
    "\n",
    "### Exercise 19:\n",
    "Convert the string `\"hello\"` into a list of characters.\n",
    "\n",
    "```python\n",
    "# Exercise 19\n",
    "```"
   ]
  },
  {
   "cell_type": "code",
   "execution_count": 36,
   "id": "cb6c08b1",
   "metadata": {},
   "outputs": [
    {
     "data": {
      "text/plain": [
       "['h', 'e', 'l', 'l', 'o']"
      ]
     },
     "execution_count": 36,
     "metadata": {},
     "output_type": "execute_result"
    }
   ],
   "source": [
    "string=\"hello\"\n",
    "liste1=[]\n",
    "for i in string:\n",
    "    liste1.append(i)\n",
    "liste1"
   ]
  },
  {
   "cell_type": "markdown",
   "id": "b661514b",
   "metadata": {
    "id": "bea983a3"
   },
   "source": [
    "---\n",
    "\n",
    "### Exercise 20:\n",
    "Write a Python function that reverses a tuple `(1, 2, 3, 4)`.\n",
    "\n",
    "```python\n",
    "# Exercise 20\n",
    "```"
   ]
  },
  {
   "cell_type": "code",
   "execution_count": 43,
   "id": "7a932239",
   "metadata": {},
   "outputs": [
    {
     "ename": "AttributeError",
     "evalue": "'tuple' object has no attribute 'inverse'",
     "output_type": "error",
     "traceback": [
      "\u001b[0;31m---------------------------------------------------------------------------\u001b[0m",
      "\u001b[0;31mAttributeError\u001b[0m                            Traceback (most recent call last)",
      "\u001b[0;32m/tmp/ipykernel_5070/1307719135.py\u001b[0m in \u001b[0;36m<module>\u001b[0;34m\u001b[0m\n\u001b[1;32m      1\u001b[0m \u001b[0mtuple1\u001b[0m\u001b[0;34m=\u001b[0m\u001b[0;34m(\u001b[0m\u001b[0;36m1\u001b[0m\u001b[0;34m,\u001b[0m \u001b[0;36m2\u001b[0m\u001b[0;34m,\u001b[0m \u001b[0;36m3\u001b[0m\u001b[0;34m,\u001b[0m \u001b[0;36m4\u001b[0m\u001b[0;34m)\u001b[0m\u001b[0;34m\u001b[0m\u001b[0;34m\u001b[0m\u001b[0m\n\u001b[0;32m----> 2\u001b[0;31m \u001b[0mtuple1\u001b[0m\u001b[0;34m.\u001b[0m\u001b[0minverse\u001b[0m\u001b[0;34m(\u001b[0m\u001b[0;34m)\u001b[0m\u001b[0;34m\u001b[0m\u001b[0;34m\u001b[0m\u001b[0m\n\u001b[0m\u001b[1;32m      3\u001b[0m \u001b[0mtuple1\u001b[0m\u001b[0;34m\u001b[0m\u001b[0;34m\u001b[0m\u001b[0m\n",
      "\u001b[0;31mAttributeError\u001b[0m: 'tuple' object has no attribute 'inverse'"
     ]
    }
   ],
   "source": [
    "tuple1=(1, 2, 3, 4)\n",
    "tuple1.inv()\n",
    "tuple1"
   ]
  },
  {
   "cell_type": "markdown",
   "id": "650165f0",
   "metadata": {
    "id": "bea983a3"
   },
   "source": [
    "---\n",
    "\n",
    "### Exercise 21:\n",
    "Merge two dictionaries `dict1 = {\"a\": 1, \"b\": 2}` and `dict2 = {\"c\": 3, \"d\": 4}` into a single dictionary.\n",
    "\n",
    "```python\n",
    "# Exercise 21\n",
    "```"
   ]
  },
  {
   "cell_type": "code",
   "execution_count": 3,
   "id": "77d4faa6",
   "metadata": {},
   "outputs": [
    {
     "name": "stdout",
     "output_type": "stream",
     "text": [
      "{'a': 1, 'b': 2, 'c': 3, 'd': 4}\n"
     ]
    }
   ],
   "source": [
    "dict1 = {\"a\": 1, \"b\": 2}\n",
    "dict2 = {\"c\": 3, \"d\": 4}\n",
    "merged_list = dict1|dict2\n",
    "print(merged_list)"
   ]
  },
  {
   "cell_type": "markdown",
   "id": "40c4fca6",
   "metadata": {
    "id": "bea983a3"
   },
   "source": [
    "---\n",
    "\n",
    "### Exercise 22:\n",
    "Create a dictionary where keys are numbers from 1 to 5, and values are their squares.\n",
    "\n",
    "```python\n",
    "# Exercise 22\n",
    "```"
   ]
  },
  {
   "cell_type": "code",
   "execution_count": 4,
   "id": "9ee31f05",
   "metadata": {},
   "outputs": [
    {
     "name": "stdout",
     "output_type": "stream",
     "text": [
      "{1: 1, 2: 4, 3: 9, 4: 16, 5: 25}\n"
     ]
    }
   ],
   "source": [
    "squares_dict = {i: i**2 for i in range(1, 6)}\n",
    "print(squares_dict)"
   ]
  },
  {
   "cell_type": "markdown",
   "id": "1464e721",
   "metadata": {
    "id": "bea983a3"
   },
   "source": [
    "---\n",
    "\n",
    "### Exercise 23:\n",
    "Write a Python program to iterate through a dictionary and print each key-value pair.\n",
    "\n",
    "```python\n",
    "# Exercise 23\n",
    "```"
   ]
  },
  {
   "cell_type": "code",
   "execution_count": 6,
   "id": "534411b3",
   "metadata": {},
   "outputs": [
    {
     "name": "stdout",
     "output_type": "stream",
     "text": [
      "nom: Ndoye\n",
      "prenom: maimouna\n",
      "age: 23\n"
     ]
    }
   ],
   "source": [
    "my_dictionary={\"nom\":\"Ndoye\",\"prenom\":\"maimouna\",\"age\":23}\n",
    "for key, value in my_dictionary.items():\n",
    "    print(f\"{key}: {value}\")"
   ]
  },
  {
   "cell_type": "markdown",
   "id": "abe46d10",
   "metadata": {
    "id": "bea983a3"
   },
   "source": [
    "---\n",
    "\n",
    "### Exercise 24:\n",
    "Create a list of the first 5 letters of the alphabet using the `chr()` function.\n",
    "\n",
    "```python\n",
    "# Exercise 24\n",
    "```"
   ]
  },
  {
   "cell_type": "code",
   "execution_count": null,
   "id": "96a8214f",
   "metadata": {},
   "outputs": [],
   "source": []
  },
  {
   "cell_type": "markdown",
   "id": "8b0ff1b6",
   "metadata": {
    "id": "bea983a3"
   },
   "source": [
    "---\n",
    "\n",
    "### Exercise 25:\n",
    "Use the `zip()` function to combine two lists `[1, 2, 3]` and `[\"a\", \"b\", \"c\"]` into a list of tuples.\n",
    "\n",
    "```python\n",
    "# Exercise 25\n",
    "```"
   ]
  },
  {
   "cell_type": "code",
   "execution_count": 7,
   "id": "4354eaad",
   "metadata": {},
   "outputs": [
    {
     "name": "stdout",
     "output_type": "stream",
     "text": [
      "<zip object at 0x7f000c9ded80>\n"
     ]
    }
   ],
   "source": [
    "liste1= [1, 2, 3]\n",
    "liste2=[\"a\", \"b\", \"c\"]\n",
    "list_of_tuple=zip(liste1,liste2)\n",
    "print(list_of_tuple)"
   ]
  },
  {
   "cell_type": "markdown",
   "id": "f59d24b9",
   "metadata": {
    "id": "bea983a3"
   },
   "source": [
    "---\n",
    "\n",
    "### Exercise 26:\n",
    "Find the index of the value `50` in the list `[10, 20, 30, 40, 50]`.\n",
    "\n",
    "```python\n",
    "# Exercise 26\n",
    "```"
   ]
  },
  {
   "cell_type": "code",
   "execution_count": 8,
   "id": "0b7f28ea",
   "metadata": {},
   "outputs": [
    {
     "data": {
      "text/plain": [
       "4"
      ]
     },
     "execution_count": 8,
     "metadata": {},
     "output_type": "execute_result"
    }
   ],
   "source": [
    "liste_26=[10, 20, 30, 40, 50]\n",
    "liste_26.index(50)"
   ]
  },
  {
   "cell_type": "markdown",
   "id": "e16d1bbc",
   "metadata": {
    "id": "bea983a3"
   },
   "source": [
    "---\n",
    "\n",
    "### Exercise 27:\n",
    "Sort the list `names = [\"Alice\", \"Bob\", \"Charlie\", \"David\"]` in alphabetical order.\n",
    "\n",
    "```python\n",
    "# Exercise 27\n",
    "```"
   ]
  },
  {
   "cell_type": "code",
   "execution_count": 9,
   "id": "0519ad99",
   "metadata": {},
   "outputs": [
    {
     "name": "stdout",
     "output_type": "stream",
     "text": [
      "['Alice', 'Bob', 'Charlie', 'David']\n"
     ]
    }
   ],
   "source": [
    "names = [\"Alice\", \"Bob\", \"Charlie\", \"David\"]\n",
    "sorted_names = sorted(names)\n",
    "print(sorted_names)\n"
   ]
  },
  {
   "cell_type": "markdown",
   "id": "b7debbd3",
   "metadata": {
    "id": "bea983a3"
   },
   "source": [
    "---\n",
    "\n",
    "### Exercise 28:\n",
    "Write a Python function that takes a list of integers as input and returns the largest number.\n",
    "\n",
    "```python\n",
    "# Exercise 28\n",
    "```"
   ]
  },
  {
   "cell_type": "code",
   "execution_count": null,
   "id": "b5baae11",
   "metadata": {},
   "outputs": [],
   "source": []
  },
  {
   "cell_type": "markdown",
   "id": "cf55814d",
   "metadata": {
    "id": "bea983a3"
   },
   "source": [
    "---\n",
    "\n",
    "### Exercise 29:\n",
    "Use the `count()` method to count how many times `\"apple\"` appears in the list `fruits = [\"apple\", \"banana\", \"apple\", \"orange\"]`.\n",
    "\n",
    "```python\n",
    "# Exercise 29\n",
    "```"
   ]
  },
  {
   "cell_type": "code",
   "execution_count": 13,
   "id": "c2b0a0a2",
   "metadata": {},
   "outputs": [
    {
     "name": "stdout",
     "output_type": "stream",
     "text": [
      "2\n"
     ]
    }
   ],
   "source": [
    "fruits = [\"apple\", \"banana\", \"apple\", \"orange\"]\n",
    "count_apple=fruits.count(\"apple\")\n",
    "print(count_apple)"
   ]
  },
  {
   "cell_type": "markdown",
   "id": "4d4282df",
   "metadata": {
    "id": "bea983a3"
   },
   "source": [
    "---\n",
    "\n",
    "### Exercise 30:\n",
    "Create a dictionary `person` where keys are `\"name\"`, `\"age\"`, and `\"city\"`, and values are `\"Alice\"`, `25`, and `\"New York\"` respectively. Then access the value of the `\"city\"` key.\n",
    "\n",
    "```python\n",
    "# Exercise 30\n",
    "```"
   ]
  },
  {
   "cell_type": "code",
   "execution_count": null,
   "id": "ee1a7783",
   "metadata": {},
   "outputs": [],
   "source": [
    "person={'name': 'Alice', 'age': 25, 'city': 'New York'}\n",
    "rint(my_dict['city'])      "
   ]
  },
  {
   "cell_type": "markdown",
   "id": "391a9103",
   "metadata": {
    "id": "bea983a3"
   },
   "source": [
    "---\n",
    "\n",
    "### Exercise 31:\n",
    "Write a Python function that takes a list as input and returns a new list with all duplicates removed.\n",
    "\n",
    "```python\n",
    "# Exercise 31\n",
    "```"
   ]
  },
  {
   "cell_type": "code",
   "execution_count": null,
   "id": "26450b54",
   "metadata": {},
   "outputs": [],
   "source": []
  },
  {
   "cell_type": "markdown",
   "id": "56b86411",
   "metadata": {
    "id": "bea983a3"
   },
   "source": [
    "---\n",
    "\n",
    "### Exercise 32:\n",
    "Write a Python function that takes two lists and returns their intersection.\n",
    "\n",
    "```python\n",
    "# Exercise 32\n",
    "```"
   ]
  },
  {
   "cell_type": "code",
   "execution_count": 18,
   "id": "e52a4934",
   "metadata": {},
   "outputs": [
    {
     "data": {
      "text/plain": [
       "[]"
      ]
     },
     "execution_count": 18,
     "metadata": {},
     "output_type": "execute_result"
    }
   ],
   "source": [
    "def function_intersection(list1_32,list2_32):\n",
    "    set1 = set(list1_32)\n",
    "    set2 = set(list2_32)\n",
    "    intersection_set = set1.intersection(set2)\n",
    "    return list(intersection_set)\n",
    "#exwemple:\n",
    "function_intersection([1,2,3],[5,6,9])"
   ]
  },
  {
   "cell_type": "markdown",
   "id": "5df4e1e3",
   "metadata": {
    "id": "bea983a3"
   },
   "source": [
    "---\n",
    "\n",
    "### Exercise 33:\n",
    "Create a generator that yields the squares of numbers from 1 to 10.\n",
    "\n",
    "```python\n",
    "# Exercise 33\n",
    "```"
   ]
  },
  {
   "cell_type": "code",
   "execution_count": 19,
   "id": "7f804e9e",
   "metadata": {},
   "outputs": [],
   "source": [
    "def square_generator():\n",
    "    for i in range(1, 11):\n",
    "        yield i * i      "
   ]
  },
  {
   "cell_type": "markdown",
   "id": "40836fcc",
   "metadata": {
    "id": "bea983a3"
   },
   "source": [
    "---\n",
    "\n",
    "### Exercise 34:\n",
    "Write a Python function that takes a dictionary as input and returns the sum of all its values.\n",
    "\n",
    "```python\n",
    "# Exercise 34\n",
    "```"
   ]
  },
  {
   "cell_type": "code",
   "execution_count": null,
   "id": "ff2cc071",
   "metadata": {},
   "outputs": [],
   "source": [
    "def sum_dictionary_values(input_dict):\n",
    "  \n",
    "  return sum(input_dict.values())"
   ]
  },
  {
   "cell_type": "markdown",
   "id": "db19902d",
   "metadata": {
    "id": "bea983a3"
   },
   "source": [
    "---\n",
    "\n",
    "### Exercise 35:\n",
    "Use the `sorted()` function to sort the list `[3, 1, 4, 1, 5, 9]` in ascending order.\n",
    "\n",
    "```python\n",
    "# Exercise 35\n",
    "```"
   ]
  },
  {
   "cell_type": "code",
   "execution_count": 20,
   "id": "fac71e38",
   "metadata": {},
   "outputs": [
    {
     "name": "stdout",
     "output_type": "stream",
     "text": [
      "[1, 1, 3, 4, 5, 9]\n"
     ]
    }
   ],
   "source": [
    "list_sort=[3, 1, 4, 1, 5, 9]\n",
    "print(sorted(list_sort))"
   ]
  },
  {
   "cell_type": "markdown",
   "id": "971f3f46",
   "metadata": {
    "id": "bea983a3"
   },
   "source": [
    "                                                                                                ---\n",
    "\n",
    "### Exercise 36:\n",
    "Write a Python function that takes a list of strings as input and returns the longest string.\n",
    "\n",
    "```python\n",
    "# Exercise 36\n",
    "```"
   ]
  },
  {
   "cell_type": "code",
   "execution_count": null,
   "id": "884da250",
   "metadata": {},
   "outputs": [],
   "source": [
    "def find_longest_string(string_list):\n",
    "  \n",
    "  if not string_list:\n",
    "    return None  \n",
    "\n",
    "  longest_str = \"\"\n",
    "    for s in string_list:\n",
    "    if len(s) > len(longest_str):\n",
    "        longest_str = s\n",
    "    return longest_str"
   ]
  },
  {
   "cell_type": "markdown",
   "id": "a0fe8514",
   "metadata": {
    "id": "bea983a3"
   },
   "source": [
    "---\n",
    "\n",
    "### Exercise 37:\n",
    "Check if all the elements in the list `[1, 2, 3, 4, 5]` are greater than 0 using the `all()` function.\n",
    "\n",
    "```python\n",
    "# Exercise 37\n",
    "```"
   ]
  },
  {
   "cell_type": "code",
   "execution_count": 21,
   "id": "7e4785ab",
   "metadata": {},
   "outputs": [
    {
     "name": "stdout",
     "output_type": "stream",
     "text": [
      "True\n"
     ]
    }
   ],
   "source": [
    "my_list = [1, 2, 3, 4, 5]\n",
    "result = all(x > 0 for x in my_list)\n",
    "print(result)"
   ]
  },
  {
   "cell_type": "markdown",
   "id": "d600d8f5",
   "metadata": {
    "id": "bea983a3"
   },
   "source": [
    "---\n",
    "\n",
    "### Exercise 38:\n",
    "Create a list of tuples where each tuple contains a number and its square for numbers from 1 to 5.\n",
    "\n",
    "```python\n",
    "# Exercise 38\n",
    "```"
   ]
  },
  {
   "cell_type": "code",
   "execution_count": 22,
   "id": "f6e0e7be",
   "metadata": {},
   "outputs": [],
   "source": [
    "num_squares = [(x, x**2) for x in range(1, 6)]"
   ]
  },
  {
   "cell_type": "markdown",
   "id": "94a7b93f",
   "metadata": {
    "id": "bea983a3"
   },
   "source": [
    "---\n",
    "\n",
    "### Exercise 39:\n",
    "Write a Python function that takes a list of tuples and returns a list of the second elements from each tuple.\n",
    "\n",
    "```python\n",
    "# Exercise 39\n",
    "```"
   ]
  },
  {
   "cell_type": "code",
   "execution_count": null,
   "id": "4ce0748b",
   "metadata": {},
   "outputs": [],
   "source": []
  },
  {
   "cell_type": "markdown",
   "id": "0170c766",
   "metadata": {
    "id": "bea983a3"
   },
   "source": [
    "---\n",
    "\n",
    "### Exercise 40:\n",
    "Write a Python function that flattens a list of lists into a single list.\n",
    "\n",
    "```python\n",
    "# Exercise 40\n",
    "```"
   ]
  },
  {
   "cell_type": "markdown",
   "id": "4612456b",
   "metadata": {
    "id": "bea983a3"
   },
   "source": [
    "---\n",
    "\n",
    "### Exercise 41:\n",
    "Use the `enumerate()` function to iterate through the list `[\"apple\", \"banana\", \"cherry\"]` and print the index and value.\n",
    "\n",
    "```python\n",
    "# Exercise 41\n",
    "```"
   ]
  },
  {
   "cell_type": "code",
   "execution_count": 23,
   "id": "7a53ffe5",
   "metadata": {},
   "outputs": [
    {
     "name": "stdout",
     "output_type": "stream",
     "text": [
      "Index: 0, Value: apple\n",
      "Index: 1, Value: banana\n",
      "Index: 2, Value: cherry\n"
     ]
    }
   ],
   "source": [
    "fruits = [\"apple\", \"banana\", \"cherry\"]\n",
    "\n",
    "for index, fruit in enumerate(fruits):\n",
    "    print(f\"Index: {index}, Value: {fruit}\")"
   ]
  },
  {
   "cell_type": "markdown",
   "id": "49fe2f7f",
   "metadata": {
    "id": "bea983a3"
   },
   "source": [
    "---\n",
    "\n",
    "### Exercise 42:\n",
    "Write a Python program that checks if a tuple is empty.\n",
    "\n",
    "```python\n",
    "# Exercise 42\n",
    "```"
   ]
  },
  {
   "cell_type": "code",
   "execution_count": 25,
   "id": "b8f2e0be",
   "metadata": {},
   "outputs": [],
   "source": [
    "def check_empty_tuple_len(tup):\n",
    "    if len(tup) == 0:\n",
    "        return True\n",
    "    else:\n",
    "        return False"
   ]
  },
  {
   "cell_type": "markdown",
   "id": "a5a871c7",
   "metadata": {
    "id": "bea983a3"
   },
   "source": [
    "---\n",
    "\n",
    "### Exercise 43:\n",
    "Create a list of even numbers between 1 and 20 using the `range()` function.\n",
    "\n",
    "```python\n",
    "# Exercise 43\n",
    "```"
   ]
  },
  {
   "cell_type": "code",
   "execution_count": 26,
   "id": "83c3dcfe",
   "metadata": {},
   "outputs": [
    {
     "name": "stdout",
     "output_type": "stream",
     "text": [
      "[2, 4, 6, 8, 10, 12, 14, 16, 18, 20]\n"
     ]
    }
   ],
   "source": [
    "even_numbers = list(range(2, 21, 2))\n",
    "print(even_numbers)"
   ]
  },
  {
   "cell_type": "markdown",
   "id": "efc77628",
   "metadata": {
    "id": "bea983a3"
   },
   "source": [
    "---\n",
    "\n",
    "### Exercise 44:\n",
    "Write a Python function that takes a list of numbers as input and returns the list in reverse order.\n",
    "\n",
    "```python\n",
    "# Exercise 44\n",
    "```"
   ]
  },
  {
   "cell_type": "code",
   "execution_count": 29,
   "id": "2a22f0b4",
   "metadata": {},
   "outputs": [
    {
     "name": "stdout",
     "output_type": "stream",
     "text": [
      "[10, 20, 30]\n",
      "[30, 20, 10]\n"
     ]
    }
   ],
   "source": [
    "def reverse_list(numbers):\n",
    "    return numbers[::-1]\n",
    "ex_list = [10, 20, 30]\n",
    "reversed_ex_list = reverse_list(ex_list)\n",
    "print( ex_list)\n",
    "print(reversed_ex_list)"
   ]
  },
  {
   "cell_type": "markdown",
   "id": "4f0b8f18",
   "metadata": {
    "id": "bea983a3"
   },
   "source": [
    "---\n",
    "\n",
    "### Exercise 45:\n",
    "Create a dictionary comprehension that maps numbers from 1 to 5 to their cubes.\n",
    "\n",
    "```python\n",
    "# Exercise 45\n",
    "```"
   ]
  },
  {
   "cell_type": "code",
   "execution_count": 30,
   "id": "c1804079",
   "metadata": {},
   "outputs": [
    {
     "name": "stdout",
     "output_type": "stream",
     "text": [
      "{1: 1, 2: 8, 3: 27, 4: 64, 5: 125}\n"
     ]
    }
   ],
   "source": [
    "cubes_dict = {num: num**3 for num in range(1, 6)}\n",
    "print(cubes_dict)"
   ]
  },
  {
   "cell_type": "markdown",
   "id": "b6f7076d",
   "metadata": {
    "id": "bea983a3"
   },
   "source": [
    "---\n",
    "\n",
    "### Exercise 46:\n",
    "Write a Python program that creates a new list containing only the unique elements of the list `[1, 2, 2, 3, 4, 4, 5]`.\n",
    "\n",
    "```python\n",
    "# Exercise 46\n",
    "```"
   ]
  },
  {
   "cell_type": "code",
   "execution_count": null,
   "id": "5c47491c",
   "metadata": {},
   "outputs": [],
   "source": [
    "list_46=[1, 2, 2, 3, 4, 4, 5]\n",
    "list_46_set=set(list_46)"
   ]
  },
  {
   "cell_type": "code",
   "execution_count": null,
   "id": "9b538c03",
   "metadata": {},
   "outputs": [],
   "source": []
  },
  {
   "cell_type": "markdown",
   "id": "a0baa3ac",
   "metadata": {
    "id": "bea983a3"
   },
   "source": [
    "---\n",
    "\n",
    "### Exercise 47:\n",
    "Write a Python function that takes a list of dictionaries and returns a list of the values for a given key.\n",
    "\n",
    "```python\n",
    "# Exercise 47\n",
    "```"
   ]
  },
  {
   "cell_type": "code",
   "execution_count": null,
   "id": "26710562",
   "metadata": {},
   "outputs": [],
   "source": [
    "def get_values_for_key(list_of_dictionaries, key):\n",
    "    \n",
    "    values = []\n",
    "    for d in list_of_dictionaries:\n",
    "        if key in d:\n",
    "            values.append(d[key])\n",
    "    return values"
   ]
  },
  {
   "cell_type": "markdown",
   "id": "46b9c312",
   "metadata": {
    "id": "bea983a3"
   },
   "source": [
    "---\n",
    "\n",
    "### Exercise 48:\n",
    "Write a Python function that uses a generator to yield the Fibonacci sequence up to `n` terms.\n",
    "\n",
    "```python\n",
    "# Exercise 48\n",
    "```"
   ]
  },
  {
   "cell_type": "code",
   "execution_count": null,
   "id": "e6f8f4a1",
   "metadata": {},
   "outputs": [],
   "source": [
    "def fibonacci_generator(n):\n",
    "    \n",
    "    if n <= 0:\n",
    "        return\n",
    "    elif n == 1:\n",
    "        yield 0\n",
    "        return\n",
    "    \n",
    "    a, b = 0, 1\n",
    "    yield a\n",
    "    yield b\n",
    "    \n",
    "    for _ in range(2, n):\n",
    "        next_fib = a + b\n",
    "        yield next_fib\n",
    "        a, b = b, next_fib"
   ]
  },
  {
   "cell_type": "markdown",
   "id": "573d3cd4",
   "metadata": {
    "id": "bea983a3"
   },
   "source": [
    "---\n",
    "\n",
    "### Exercise 49:\n",
    "Write a Python function that takes a string and returns a list of all unique characters in the string.\n",
    "\n",
    "```python\n",
    "# Exercise 49\n",
    "```"
   ]
  },
  {
   "cell_type": "code",
   "execution_count": null,
   "id": "eff12d87",
   "metadata": {},
   "outputs": [],
   "source": [
    "def get_unique_characters(input_string):\n",
    "    return list(set(input_string))"
   ]
  },
  {
   "cell_type": "markdown",
   "id": "2d602d10",
   "metadata": {
    "id": "bea983a3"
   },
   "source": [
    "---\n",
    "\n",
    "### Exercise 50:\n",
    "Write a Python function that merges two sorted lists into a single sorted list.\n",
    "\n",
    "```python\n",
    "# Exercise 50"
   ]
  },
  {
   "cell_type": "markdown",
   "id": "977f8715",
   "metadata": {
    "id": "bea983a3"
   },
   "source": []
  },
  {
   "cell_type": "markdown",
   "id": "5eca963f",
   "metadata": {
    "id": "bea983a3"
   },
   "source": [
    "---\n",
    "\n",
    "### Exercise 51:\n",
    "Use the\n",
    "\n",
    " `filter()` function to filter out odd numbers from the list `[1, 2, 3, 4, 5, 6]`.\n",
    "\n",
    "```python\n",
    "# Exercise 51\n",
    "```"
   ]
  },
  {
   "cell_type": "code",
   "execution_count": 31,
   "id": "78153338",
   "metadata": {},
   "outputs": [
    {
     "name": "stdout",
     "output_type": "stream",
     "text": [
      "[1, 3, 5]\n"
     ]
    }
   ],
   "source": [
    "numbers = [1, 2, 3, 4, 5, 6]\n",
    "odd_numbers = list(filter(lambda x: x % 2 != 0, numbers))\n",
    "print(odd_numbers)"
   ]
  },
  {
   "cell_type": "markdown",
   "id": "0fa427f8",
   "metadata": {
    "id": "bea983a3"
   },
   "source": [
    "---\n",
    "\n",
    "### Exercise 52:\n",
    "Write a Python program that converts a list of tuples `[(1, 2), (3, 4), (5, 6)]` into a dictionary.\n",
    "\n",
    "```python\n",
    "# Exercise 52\n",
    "```"
   ]
  },
  {
   "cell_type": "code",
   "execution_count": null,
   "id": "61aa5bcd",
   "metadata": {},
   "outputs": [],
   "source": [
    "def convert_list_of_tuples_to_dict(tuple_list):\n",
    "    return dict(tuple_list)"
   ]
  },
  {
   "cell_type": "markdown",
   "id": "f0bd2218",
   "metadata": {
    "id": "bea983a3"
   },
   "source": [
    "---\n",
    "\n",
    "### Exercise 53:\n",
    "Write a Python function that takes two sets and returns their symmetric difference.\n",
    "\n",
    "```python\n",
    "# Exercise 53\n",
    "```"
   ]
  },
  {
   "cell_type": "code",
   "execution_count": null,
   "id": "91c62d66",
   "metadata": {},
   "outputs": [],
   "source": [
    "def get_symmetric_difference(set1, set2):\n",
    "  \n",
    "  return set1.symmetric_difference(set2)"
   ]
  },
  {
   "cell_type": "markdown",
   "id": "c9daeca9",
   "metadata": {
    "id": "bea983a3"
   },
   "source": [
    "---\n",
    "\n",
    "### Exercise 54:\n",
    "Write a Python program that finds the common elements in three lists `list1`, `list2`, and `list3`.\n",
    "\n",
    "```python\n",
    "# Exercise 54\n",
    "```"
   ]
  },
  {
   "cell_type": "code",
   "execution_count": null,
   "id": "7966b53a",
   "metadata": {},
   "outputs": [],
   "source": [
    "def find_common_elements_three_lists(list1, list2, list3):\n",
    "    \n",
    "    # Convert lists to sets for efficient intersection operations\n",
    "    set1 = set(list1)\n",
    "    set2 = set(list2)\n",
    "    set3 = set(list3)\n",
    "\n",
    "    # Find the intersection of all three sets\n",
    "    common_elements_set = set1.intersection(set2, set3)\n",
    "\n",
    "    # Convert the resulting set back to a list\n",
    "    common_elements_list = list(common_elements_set)\n",
    "\n",
    "    return common_elements_list"
   ]
  },
  {
   "cell_type": "markdown",
   "id": "8d387c76",
   "metadata": {
    "id": "bea983a3"
   },
   "source": [
    "---\n",
    "\n",
    "### Exercise 55:\n",
    "Write a Python function that returns the factorial of a number using recursion.\n",
    "\n",
    "```python\n",
    "# Exercise 55\n",
    "```"
   ]
  },
  {
   "cell_type": "code",
   "execution_count": null,
   "id": "38818157",
   "metadata": {},
   "outputs": [],
   "source": [
    "def factorial_recursive(n):\n",
    "  \n",
    "  if not isinstance(n, int) or n < 0:\n",
    "    raise ValueError(\"Input must be a non-negative integer.\")\n",
    "  \n",
    "  if n == 0:\n",
    "    return 1\n",
    "  else:\n",
    "    return n * factorial_recursive(n - 1)\n"
   ]
  },
  {
   "cell_type": "markdown",
   "id": "95f6b133",
   "metadata": {
    "id": "bea983a3"
   },
   "source": [
    "---\n",
    "\n",
    "### Exercise 56:\n",
    "Write a Python program that removes all empty strings from the list `[\"apple\", \"\", \"banana\", \"\", \"cherry\"]`.\n",
    "\n",
    "```python\n",
    "# Exercise 56\n",
    "```"
   ]
  },
  {
   "cell_type": "code",
   "execution_count": 32,
   "id": "898e3cbf",
   "metadata": {},
   "outputs": [
    {
     "name": "stdout",
     "output_type": "stream",
     "text": [
      "['apple', 'banana', 'cherry']\n"
     ]
    }
   ],
   "source": [
    "list_56 = [\"apple\", \"\", \"banana\", \"\", \"cherry\"]\n",
    "filtered_list = [s for s in list_56 if s]\n",
    "print(filtered_list)\n",
    "\n"
   ]
  },
  {
   "cell_type": "markdown",
   "id": "41dcfe82",
   "metadata": {
    "id": "bea983a3"
   },
   "source": [
    "---\n",
    "\n",
    "### Exercise 57:\n",
    "Write a Python function that takes a dictionary and returns a new dictionary with the keys and values swapped.\n",
    "\n",
    "```python\n",
    "# Exercise 57\n",
    "```"
   ]
  },
  {
   "cell_type": "code",
   "execution_count": null,
   "id": "b99becd0",
   "metadata": {},
   "outputs": [],
   "source": []
  },
  {
   "cell_type": "code",
   "execution_count": null,
   "id": "b88c4f37",
   "metadata": {},
   "outputs": [],
   "source": []
  },
  {
   "cell_type": "markdown",
   "id": "e3ce20e3",
   "metadata": {
    "id": "bea983a3"
   },
   "source": [
    "---\n",
    "\n",
    "### Exercise 58:\n",
    "Write a Python function that takes a list of integers and returns a new list with only the even numbers.\n",
    "\n",
    "```python\n",
    "# Exercise 58\n",
    "```"
   ]
  },
  {
   "cell_type": "code",
   "execution_count": null,
   "id": "380cc0b5",
   "metadata": {},
   "outputs": [],
   "source": [
    "def get_even_numbers(numbers):\n",
    "    even_numbers = []\n",
    "    for number in numbers:\n",
    "        if number % 2 == 0:\n",
    "            even_numbers.append(number)\n",
    "    return even_numbers"
   ]
  },
  {
   "cell_type": "markdown",
   "id": "be48e9cb",
   "metadata": {
    "id": "bea983a3"
   },
   "source": [
    "---\n",
    "\n",
    "### Exercise 59:\n",
    "Write a Python function that takes a list of tuples and returns a list of the first elements of each tuple.\n",
    "\n",
    "```python\n",
    "# Exercise 59\n",
    "```"
   ]
  },
  {
   "cell_type": "code",
   "execution_count": 33,
   "id": "4d32784a",
   "metadata": {},
   "outputs": [],
   "source": [
    "def get_first_elements(list_of_tuples):\n",
    "  first_elements = [t[0] for t in list_of_tuples]\n",
    "  return first_elements"
   ]
  },
  {
   "cell_type": "markdown",
   "id": "03353f7e",
   "metadata": {
    "id": "bea983a3"
   },
   "source": [
    "---\n",
    "\n",
    "### Exercise 60:\n",
    "Write a Python program that removes duplicates from a list without changing the order of elements.\n",
    "\n",
    "```python\n",
    "# Exercise 60\n",
    "```\n",
    "\n",
    "---\n",
    "\n",
    "### Exercise 61:\n",
    "Use the `map()` function to convert a list of strings to a list of their lengths.\n",
    "\n",
    "```python\n",
    "# Exercise 61\n",
    "```"
   ]
  },
  {
   "cell_type": "markdown",
   "id": "a85e935f",
   "metadata": {
    "id": "bea983a3"
   },
   "source": [
    "---\n",
    "\n",
    "### Exercise 62:\n",
    "Write a Python program that calculates the average of a list of numbers.\n",
    "\n",
    "```python\n",
    "# Exercise 62\n",
    "```"
   ]
  },
  {
   "cell_type": "code",
   "execution_count": null,
   "id": "af5cd625",
   "metadata": {},
   "outputs": [],
   "source": [
    "def calculate_average(numbers):\n",
    "    if not numbers:  \n",
    "    return 0 \n",
    "    total_sum = sum(numbers) \n",
    "    average = total_sum / len(numbers) "
   ]
  },
  {
   "cell_type": "markdown",
   "id": "cb7737c3",
   "metadata": {
    "id": "bea983a3"
   },
   "source": [
    "---\n",
    "\n",
    "### Exercise 63:\n",
    "Write a Python function that generates a list of the first `n` Fibonacci numbers.\n",
    "\n",
    "```python\n",
    "# Exercise 63\n",
    "```"
   ]
  },
  {
   "cell_type": "markdown",
   "id": "e7bc9367",
   "metadata": {
    "id": "bea983a3"
   },
   "source": [
    "---\n",
    "\n",
    "### Exercise 64:\n",
    "Write a Python program that counts how many times each element appears in the list `[\"apple\", \"banana\", \"apple\", \"cherry\"]`.\n",
    "\n",
    "```python\n",
    "# Exercise 64\n",
    "```\n",
    "\n",
    "---\n",
    "\n",
    "### Exercise 65:\n",
    "Write a Python program that removes all occurrences of a specific value from a list.\n",
    "\n",
    "```python\n",
    "# Exercise 65\n",
    "```\n",
    "\n",
    "---\n",
    "\n",
    "### Exercise 66:\n",
    "Write a Python function that takes a list of strings and returns a list of the strings that start with a vowel.\n",
    "\n",
    "```python\n",
    "# Exercise 66\n",
    "```\n",
    "\n",
    "---\n",
    "\n",
    "### Exercise 67:\n",
    "Write a Python program that finds the intersection of two sets `set1` and `set2`.\n",
    "\n",
    "```python\n",
    "# Exercise 67\n",
    "```\n",
    "\n",
    "---\n",
    "\n",
    "### Exercise 68:\n",
    "Write a Python function that flattens a nested list.\n",
    "\n",
    "```python\n",
    "# Exercise 68\n",
    "```\n",
    "\n",
    "---\n",
    "\n",
    "### Exercise 69:\n",
    "Write a Python program that checks if all the elements in a list are unique.\n",
    "\n",
    "```python\n",
    "# Exercise 69\n",
    "```\n",
    "\n",
    "---\n",
    "\n",
    "### Exercise 70:\n",
    "Use the `reduce()` function from the `functools` module to multiply all elements in a list.\n",
    "\n",
    "```python\n",
    "# Exercise 70\n",
    "```\n",
    "\n",
    "---\n",
    "\n",
    "### Exercise 71:\n",
    "Write a Python function that takes a list of strings and returns a dictionary where keys are strings and values are their lengths.\n",
    "\n",
    "```python\n",
    "# Exercise 71\n",
    "```\n",
    "\n",
    "---\n",
    "\n",
    "### Exercise 72:\n",
    "Write a Python program that counts the number of vowels in a string.\n",
    "\n",
    "```python\n",
    "# Exercise 72\n",
    "```\n",
    "\n",
    "---"
   ]
  },
  {
   "cell_type": "markdown",
   "id": "0c451fbb",
   "metadata": {
    "id": "bea983a3"
   },
   "source": [
    "### Exercise 73:\n",
    "Create a list of tuples where each tuple contains a number from 1 to 5 and its factorial.\n",
    "\n",
    "```python\n",
    "# Exercise 73\n",
    "```"
   ]
  },
  {
   "cell_type": "code",
   "execution_count": null,
   "id": "aa1702bd",
   "metadata": {},
   "outputs": [],
   "source": [
    "import math\n",
    "\n",
    "factorial_list = []\n",
    "for i in range(1, 6):\n",
    "    factorial_value = math.factorial(i)\n",
    "    number_factorial_tuple = (i, factorial_value)\n",
    "    factorial_list.append(number_factorial_tuple)\n",
    "print(factorial_list)"
   ]
  },
  {
   "cell_type": "markdown",
   "id": "bea983a3",
   "metadata": {
    "id": "bea983a3"
   },
   "source": [
    "---\n",
    "\n",
    "### Exercise 74:\n",
    "Write a Python program that converts a list of dictionaries into a single dictionary by merging them.\n",
    "\n",
    "```python\n",
    "# Exercise 74\n",
    "```\n",
    "\n",
    "---\n",
    "\n",
    "### Exercise 75:\n",
    "Write a Python function that checks if a set is a subset of another set.\n",
    "\n",
    "```python\n",
    "# Exercise 75\n",
    "```\n",
    "\n",
    "---\n",
    "\n",
    "### Exercise 76:\n",
    "Write a Python program that sorts a list of tuples based on the second element in each tuple.\n",
    "\n",
    "```python\n",
    "# Exercise 76\n",
    "```\n",
    "\n",
    "---\n",
    "\n",
    "### Exercise 77:\n",
    "Write a Python function that takes a list of integers and returns a new list with only the positive integers.\n",
    "\n",
    "```python\n",
    "# Exercise 77\n",
    "```\n",
    "\n",
    "---\n",
    "\n",
    "### Exercise 78:\n",
    "Write a Python function that takes two sets and returns their union.\n",
    "\n",
    "```python\n",
    "# Exercise 78\n",
    "```\n",
    "\n",
    "---\n",
    "\n",
    "### Exercise 79:\n",
    "Write a Python function that takes a list of numbers and returns the product of all the numbers.\n",
    "\n",
    "```python\n",
    "# Exercise 79\n",
    "```\n",
    "\n",
    "---\n",
    "\n",
    "### Exercise 80:\n",
    "Write a Python program that converts a list of characters into a string.\n",
    "\n",
    "```python\n",
    "# Exercise 80\n",
    "```\n",
    "\n",
    "---\n",
    "\n",
    "### Exercise 81:\n",
    "Write a Python program that finds the second largest number in a list of integers.\n",
    "\n",
    "```python\n",
    "# Exercise 81\n",
    "```\n",
    "\n",
    "---\n",
    "\n",
    "### Exercise 82:\n",
    "Write a Python function that takes a dictionary and returns a list of its keys in sorted order.\n",
    "\n",
    "```python\n",
    "# Exercise 82\n",
    "```\n",
    "\n",
    "---\n",
    "\n",
    "### Exercise 83:\n",
    "Write a Python program that finds the most common element in a list.\n",
    "\n",
    "```python\n",
    "# Exercise 83\n",
    "```\n",
    "\n",
    "---\n",
    "\n",
    "### Exercise 84:\n",
    "Write a Python function that takes a list of tuples and returns a list of the tuples sorted by the first element.\n",
    "\n",
    "```python\n",
    "# Exercise 84\n",
    "```\n",
    "\n",
    "---\n",
    "\n",
    "### Exercise 85:\n",
    "Write a Python program that removes duplicates from a list of dictionaries.\n",
    "\n",
    "```python\n",
    "# Exercise 85\n",
    "```\n",
    "\n",
    "---\n",
    "\n",
    "### Exercise 86:\n",
    "Write a Python function that takes a list of numbers and returns the minimum and maximum numbers in the list.\n",
    "\n",
    "```python\n",
    "# Exercise 86\n",
    "```\n",
    "\n",
    "---\n",
    "\n",
    "### Exercise 87:\n",
    "Write a Python program that creates a list of tuples from two lists.\n",
    "\n",
    "```python\n",
    "# Exercise 87\n",
    "```\n",
    "\n",
    "---\n",
    "\n",
    "### Exercise 88:\n",
    "Write a Python function that takes a list of strings and returns a list of the strings in reverse order.\n",
    "\n",
    "```python\n",
    "# Exercise 88\n",
    "```\n",
    "\n",
    "---\n",
    "\n",
    "### Exercise 89:\n",
    "Write a Python function that takes a list of integers and returns the sum of all odd numbers.\n",
    "\n",
    "```python\n",
    "# Exercise 89\n",
    "```\n",
    "\n",
    "---\n",
    "\n",
    "### Exercise 90:\n",
    "Write a Python program that checks if a string is a palindrome.\n",
    "\n",
    "```python\n",
    "# Exercise 90\n",
    "```\n",
    "\n",
    "---\n",
    "\n",
    "### Exercise 91:\n",
    "Write a Python program that finds the median of a list of numbers.\n",
    "\n",
    "```python\n",
    "# Exercise 91\n",
    "```\n",
    "\n",
    "---\n",
    "\n",
    "### Exercise 92:\n",
    "Write a Python function that takes a list of dictionaries and returns a dictionary with the total value for each key.\n",
    "\n",
    "```python\n",
    "# Exercise 92\n",
    "```\n",
    "\n",
    "---\n",
    "\n",
    "### Exercise 93:\n",
    "Write a Python program that calculates the mode of a list of numbers.\n",
    "\n",
    "```python\n",
    "# Exercise 93\n",
    "```\n",
    "\n",
    "---\n",
    "\n",
    "### Exercise 94:\n",
    "Write a Python function that takes a list of numbers and returns the sum of the squares of all the numbers.\n",
    "\n",
    "```python\n",
    "# Exercise 94\n",
    "```\n",
    "\n",
    "---\n",
    "\n",
    "### Exercise 95:\n",
    "Write a Python program that creates a list of tuples, where each tuple contains a number and its cube for numbers from 1 to 5.\n",
    "\n",
    "```python\n",
    "# Exercise 95\n",
    "```\n",
    "\n",
    "---\n",
    "\n",
    "### Exercise 96:\n",
    "Write a Python function that returns a list of all prime numbers up to `n`.\n",
    "\n",
    "```python\n",
    "# Exercise 96\n",
    "```\n",
    "\n",
    "---\n",
    "\n",
    "### Exercise 97:\n",
    "Write a Python program that finds the common keys between two dictionaries.\n",
    "\n",
    "```python\n",
    "# Exercise 97\n",
    "```\n",
    "\n",
    "---\n",
    "\n",
    "### Exercise 98:\n",
    "Write a Python function that takes a list of strings and returns a list of the strings that contain more than 5 characters.\n",
    "\n",
    "```python\n",
    "# Exercise 98\n",
    "```\n",
    "\n",
    "---\n",
    "\n",
    "### Exercise 99:\n",
    "Write a Python program that converts a list of strings into a list of tuples, where each tuple contains the string and its length.\n",
    "\n",
    "```python\n",
    "# Exercise 99\n",
    "```\n",
    "\n",
    "---\n",
    "\n",
    "### Exercise 100:\n",
    "Write a Python function that takes a list of dictionaries and returns a new dictionary by summing the values of each key across all dictionaries.\n",
    "\n",
    "```python\n",
    "# Exercise 100\n",
    "```\n",
    "\n",
    "---"
   ]
  },
  {
   "cell_type": "code",
   "execution_count": null,
   "id": "3ad7cf12",
   "metadata": {},
   "outputs": [],
   "source": []
  },
  {
   "cell_type": "code",
   "execution_count": null,
   "id": "480f76ed",
   "metadata": {},
   "outputs": [],
   "source": []
  },
  {
   "cell_type": "code",
   "execution_count": null,
   "id": "129aba71",
   "metadata": {},
   "outputs": [],
   "source": []
  },
  {
   "cell_type": "code",
   "execution_count": null,
   "id": "847621c2",
   "metadata": {},
   "outputs": [],
   "source": []
  },
  {
   "cell_type": "code",
   "execution_count": null,
   "id": "9f694555",
   "metadata": {},
   "outputs": [],
   "source": []
  },
  {
   "cell_type": "code",
   "execution_count": null,
   "id": "b778cd0f",
   "metadata": {},
   "outputs": [],
   "source": []
  }
 ],
 "metadata": {
  "colab": {
   "provenance": []
  },
  "kernelspec": {
   "display_name": "Python 3 (ipykernel)",
   "language": "python",
   "name": "python3"
  },
  "language_info": {
   "codemirror_mode": {
    "name": "ipython",
    "version": 3
   },
   "file_extension": ".py",
   "mimetype": "text/x-python",
   "name": "python",
   "nbconvert_exporter": "python",
   "pygments_lexer": "ipython3",
   "version": "3.12.3"
  }
 },
 "nbformat": 4,
 "nbformat_minor": 5
}
